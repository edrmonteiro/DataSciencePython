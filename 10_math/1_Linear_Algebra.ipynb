{
  "cells": [
    {
      "cell_type": "markdown",
      "metadata": {
        "id": "WVyCEMMO9Y63"
      },
      "source": [
        "PACKAGES\n",
        "    \n",
        "    \n",
        "        - Numpy\n",
        "        - Matplotlib\n",
        "        - Pandas\n",
        "        - OpenCV"
      ]
    },
    {
      "cell_type": "code",
      "execution_count": 7,
      "metadata": {
        "id": "opJmZS7S9gd6"
      },
      "outputs": [],
      "source": [
        "import numpy as np\n",
        "array_1D = np.array([1,3,5,8])\n",
        "\n",
        "array_2D_better = np.array([[2,3],\n",
        "                     [6,8],\n",
        "                     [0,9]])\n",
        "\n",
        "array_2D = np.array([[2,3],[6,8],[0,9]])\n",
        "\n"
      ]
    },
    {
      "cell_type": "code",
      "execution_count": 8,
      "metadata": {
        "id": "5vbupPTs9ZHF"
      },
      "outputs": [
        {
          "name": "stdout",
          "output_type": "stream",
          "text": [
            "arrray better =  (3, 2)\n",
            "array= [[2 3]\n",
            " [6 8]\n",
            " [0 9]]\n"
          ]
        }
      ],
      "source": [
        "print(\"arrray better = \", array_2D_better.shape)\n",
        "print(\"array=\", array_2D)"
      ]
    },
    {
      "cell_type": "code",
      "execution_count": 9,
      "metadata": {
        "id": "I_zC1lEG9ZJc"
      },
      "outputs": [],
      "source": [
        "array_3D_better = np.array([[[2,4,8],\n",
        "                             [5,6,9]],\n",
        "                            \n",
        "                            [[8,7,5],\n",
        "                             [9,5,7]],\n",
        "                            \n",
        "                            [[2,4,0],\n",
        "                             [9,0,0]]])\n",
        "\n",
        "\n"
      ]
    },
    {
      "cell_type": "code",
      "execution_count": 10,
      "metadata": {
        "id": "nYHLu3bb9ZMm"
      },
      "outputs": [
        {
          "name": "stdout",
          "output_type": "stream",
          "text": [
            "[[[2 4 8]\n",
            "  [5 6 9]]\n",
            "\n",
            " [[8 7 5]\n",
            "  [9 5 7]]\n",
            "\n",
            " [[2 4 0]\n",
            "  [9 0 0]]]\n",
            "(3, 2, 3)\n"
          ]
        }
      ],
      "source": [
        "print(array_3D_better)\n",
        "print(array_3D_better.shape)"
      ]
    },
    {
      "cell_type": "code",
      "execution_count": 11,
      "metadata": {
        "id": "LB7e_7hH9nsa"
      },
      "outputs": [
        {
          "name": "stdout",
          "output_type": "stream",
          "text": [
            "[ 1 31  5  8]\n"
          ]
        }
      ],
      "source": [
        "array_1D = np.array([1,31.4,5,8], dtype = int)\n",
        "print(array_1D)"
      ]
    },
    {
      "cell_type": "code",
      "execution_count": 12,
      "metadata": {
        "id": "Bu-Wdu3V9nu3"
      },
      "outputs": [
        {
          "name": "stdout",
          "output_type": "stream",
          "text": [
            "[[1. 1. 1. 1.]\n",
            " [1. 1. 1. 1.]\n",
            " [1. 1. 1. 1.]]\n"
          ]
        }
      ],
      "source": [
        "a = np.ones((3,4))\n",
        "print(a)"
      ]
    },
    {
      "cell_type": "code",
      "execution_count": 13,
      "metadata": {
        "id": "Tf9CuKKr9nyU"
      },
      "outputs": [],
      "source": [
        "import matplotlib.pyplot as plt"
      ]
    },
    {
      "cell_type": "code",
      "execution_count": 14,
      "metadata": {
        "id": "PicU-Hds9sEd"
      },
      "outputs": [
        {
          "name": "stdout",
          "output_type": "stream",
          "text": [
            "[ 64  16  25  81  49   1 100   0]\n"
          ]
        }
      ],
      "source": [
        "x = np.array([8,4,5,9,7,1,10,0])\n",
        "y = x**2\n",
        "print(y)"
      ]
    },
    {
      "cell_type": "code",
      "execution_count": 15,
      "metadata": {
        "id": "_MCvf_fR9sG_"
      },
      "outputs": [
        {
          "data": {
            "image/png": "[encoded data removed]",
            "text/plain": [
              "<Figure size 432x288 with 1 Axes>"
            ]
          },
          "metadata": {
            "needs_background": "light"
          },
          "output_type": "display_data"
        }
      ],
      "source": [
        "fig = plt.figure()\n",
        "ax = fig.add_subplot()\n",
        "\n",
        "ax.scatter(x,y, color = 'red')\n",
        "\n",
        "plt.show()"
      ]
    },
    {
      "cell_type": "markdown",
      "metadata": {
        "id": "gnj9JVN36gju"
      },
      "source": [
        "\n",
        "MATRIX ALGEBRA\n"
      ]
    },
    {
      "cell_type": "code",
      "execution_count": 16,
      "metadata": {
        "id": "0mM5uo1e6DFp"
      },
      "outputs": [],
      "source": [
        "import numpy as np\n",
        "from sympy import Matrix"
      ]
    },
    {
      "cell_type": "code",
      "execution_count": 17,
      "metadata": {
        "id": "iwe35Uit6vnZ"
      },
      "outputs": [
        {
          "name": "stdout",
          "output_type": "stream",
          "text": [
            "[[4. 6.]\n",
            " [3. 4.]]\n",
            "(3, 2)\n",
            "[[4. 6.]\n",
            " [3. 4.]\n",
            " [1. 2.]]\n"
          ]
        }
      ],
      "source": [
        "A = np.array([[4,6],\n",
        "             [3,4],\n",
        "             [1,2]], dtype = float)\n",
        "\n",
        "#print(A)\n",
        "\n",
        "#print(A[0][1])\n",
        "\n",
        "print(A[0:2,0:2])\n",
        "\n",
        "print(A.shape)\n",
        "\n",
        "\n",
        "print(A)"
      ]
    },
    {
      "cell_type": "code",
      "execution_count": 19,
      "metadata": {
        "id": "pK-6p_5z6yjk"
      },
      "outputs": [
        {
          "name": "stdout",
          "output_type": "stream",
          "text": [
            "[[5, 5, 5, 5, 5], [5, 5, 5, 5, 5], [5, 5, 5, 5, 5], [5, 5, 5, 5, 5]]\n",
            "[[5 5 5 5 5]\n",
            " [5 5 5 5 5]\n",
            " [5 5 5 5 5]\n",
            " [5 5 5 5 5]]\n",
            "[array([5, 5, 5, 5, 5]), array([5, 5, 5, 5, 5]), array([5, 5, 5, 5, 5]), array([5, 5, 5, 5, 5])]\n"
          ]
        }
      ],
      "source": [
        "B = [[0]*3]*4\n",
        "\n",
        "number_of_columns = 5\n",
        "number_of_rows = 4\n",
        "B = [[5]*number_of_columns]*number_of_rows\n",
        "print(B)\n",
        "#B.append([3,5,4,6,7,78,8.9])\n",
        "#print(B)\n",
        "print(np.array(B))\n",
        "C = np.array(B)\n",
        "\n",
        "print(list(C))"
      ]
    },
    {
      "cell_type": "code",
      "execution_count": 20,
      "metadata": {
        "id": "Ppk14UBF6yl-"
      },
      "outputs": [
        {
          "name": "stdout",
          "output_type": "stream",
          "text": [
            "[[0.60253182 0.56280632 0.56422755]\n",
            " [0.21891002 0.94345008 0.29933578]\n",
            " [0.02945037 0.29593624 0.18922382]\n",
            " [0.39475105 0.20085778 0.11579364]]\n",
            "[[0.84769719 0.82294757 0.87095802]\n",
            " [0.20443977 0.70205687 0.60048379]\n",
            " [0.30544221 0.23908272 0.64573568]]\n"
          ]
        },
        {
          "ename": "ValueError",
          "evalue": "operands could not be broadcast together with shapes (4,3) (3,3) ",
          "output_type": "error",
          "traceback": [
            "\u001b[0;31m---------------------------------------------------------------------------\u001b[0m",
            "\u001b[0;31mValueError\u001b[0m                                Traceback (most recent call last)",
            "\u001b[0;32m/tmp/ipykernel_6109/1852514323.py\u001b[0m in \u001b[0;36m<module>\u001b[0;34m\u001b[0m\n\u001b[1;32m      4\u001b[0m \u001b[0mprint\u001b[0m\u001b[0;34m(\u001b[0m\u001b[0mB\u001b[0m\u001b[0;34m)\u001b[0m\u001b[0;34m\u001b[0m\u001b[0;34m\u001b[0m\u001b[0m\n\u001b[1;32m      5\u001b[0m \u001b[0;34m\u001b[0m\u001b[0m\n\u001b[0;32m----> 6\u001b[0;31m \u001b[0mprint\u001b[0m\u001b[0;34m(\u001b[0m\u001b[0mA\u001b[0m\u001b[0;34m+\u001b[0m\u001b[0mB\u001b[0m\u001b[0;34m)\u001b[0m\u001b[0;34m\u001b[0m\u001b[0;34m\u001b[0m\u001b[0m\n\u001b[0m",
            "\u001b[0;31mValueError\u001b[0m: operands could not be broadcast together with shapes (4,3) (3,3) "
          ]
        }
      ],
      "source": [
        "A = np.random.random((4,3))\n",
        "print(A)\n",
        "B = np.random.random((3,3))\n",
        "print(B)\n",
        "\n",
        "print(A+B)"
      ]
    },
    {
      "cell_type": "code",
      "execution_count": 21,
      "metadata": {
        "id": "bw7UBcQy6yqp"
      },
      "outputs": [
        {
          "name": "stdout",
          "output_type": "stream",
          "text": [
            "[[13 14]\n",
            " [16 24]\n",
            " [ 3  2]]\n"
          ]
        }
      ],
      "source": [
        "C = np.array([[2,3],\n",
        "              [5,2],\n",
        "              [0,1]])\n",
        "\n",
        "D = np.array([[2,4],\n",
        "              [3,2]])\n",
        "\n",
        "#print(C*D)\n",
        "\n",
        "print(np.matmul(C,D))"
      ]
    },
    {
      "cell_type": "code",
      "execution_count": 22,
      "metadata": {
        "id": "e-IzAauF6ys8"
      },
      "outputs": [
        {
          "name": "stdout",
          "output_type": "stream",
          "text": [
            "[[4 1 2]\n",
            " [7 4 4]]\n",
            "[[4 7]\n",
            " [1 4]\n",
            " [2 4]]\n",
            "[[4 7]\n",
            " [1 4]\n",
            " [2 4]]\n"
          ]
        }
      ],
      "source": [
        "E  = np.array([[4,1,2],\n",
        "               [7,4,4]])\n",
        "\n",
        "print(E)\n",
        "print(E.T)\n",
        "print(np.transpose(E))"
      ]
    },
    {
      "cell_type": "code",
      "execution_count": 23,
      "metadata": {
        "id": "vlOsdJA_6yvJ"
      },
      "outputs": [],
      "source": [
        "A = np.array([[2,4,9],\n",
        "            [7,2,1],\n",
        "            [9,4,1]])"
      ]
    },
    {
      "cell_type": "code",
      "execution_count": 24,
      "metadata": {
        "id": "2BCQDlil6yxq"
      },
      "outputs": [
        {
          "name": "stdout",
          "output_type": "stream",
          "text": [
            "[[-0.0212766   0.34042553 -0.14893617]\n",
            " [ 0.0212766  -0.84042553  0.64893617]\n",
            " [ 0.10638298  0.29787234 -0.25531915]]\n"
          ]
        }
      ],
      "source": [
        "\n",
        "print(np.linalg.inv(A))"
      ]
    },
    {
      "cell_type": "markdown",
      "metadata": {
        "id": "0gVQCSqo6_2h"
      },
      "source": [
        "LINEAR TRANSFORMATIONS"
      ]
    },
    {
      "cell_type": "code",
      "execution_count": 30,
      "metadata": {
        "id": "6KQdjHWf7GEc"
      },
      "outputs": [],
      "source": [
        "import numpy as np\n",
        "from matplotlib import pyplot as plt"
      ]
    },
    {
      "cell_type": "code",
      "execution_count": 31,
      "metadata": {
        "id": "wQXTx3Cg7GNz"
      },
      "outputs": [],
      "source": [
        "def T(x_1, x_2, x_3, x_4 ):\n",
        "    \n",
        "    return x_1 + x_2 , x_1 + x_2 + x_3 ,  x_1 + x_2 + x_3 + x_4 , x_4 "
      ]
    },
    {
      "cell_type": "code",
      "execution_count": 32,
      "metadata": {
        "id": "9qSRFtCb6y2T"
      },
      "outputs": [
        {
          "name": "stdout",
          "output_type": "stream",
          "text": [
            "(14, 19, 22, 3)\n"
          ]
        }
      ],
      "source": [
        "print(T(10,4,5, 3))"
      ]
    },
    {
      "cell_type": "code",
      "execution_count": 33,
      "metadata": {
        "id": "bqeSV-9u7oaa"
      },
      "outputs": [],
      "source": [
        "def T(x_1, x_2, x_3, x_4 ):\n",
        "    \n",
        "    M_T = np.array([[1,1,0,0],\n",
        "                    [1,1,1,0],\n",
        "                    [1,1,1,1],\n",
        "                    [0,0,0,1]])\n",
        "    \n",
        "    x = np.array([x_1, x_2, x_3, x_4])\n",
        "    \n",
        "    return  np.matmul(M_T, x)"
      ]
    },
    {
      "cell_type": "code",
      "execution_count": 34,
      "metadata": {
        "id": "ynX5O2SM7okT"
      },
      "outputs": [
        {
          "name": "stdout",
          "output_type": "stream",
          "text": [
            "[14 19 22  3]\n"
          ]
        }
      ],
      "source": [
        "print(T(10,4,5, 3))"
      ]
    },
    {
      "cell_type": "code",
      "execution_count": 35,
      "metadata": {
        "id": "uGZFyuvX7om3"
      },
      "outputs": [],
      "source": [
        "def Rotation(x_1, x_2 , angle):\n",
        "    \n",
        "    M_T = np.array([[np.cos(angle), -np.sin(angle)],\n",
        "                    [np.sin(angle), np.cos(angle)]])\n",
        "    \n",
        "    return np.matmul(M_T, [x_1,x_2])"
      ]
    },
    {
      "cell_type": "code",
      "execution_count": 36,
      "metadata": {
        "id": "SYR_Gc8c7opr"
      },
      "outputs": [
        {
          "data": {
            "image/png": "[encoded data removed]",
            "text/plain": [
              "<Figure size 432x288 with 2 Axes>"
            ]
          },
          "metadata": {
            "needs_background": "light"
          },
          "output_type": "display_data"
        }
      ],
      "source": [
        "number_of_points = 10\n",
        "\n",
        "x = []\n",
        "y = []\n",
        "\n",
        "x_transformed = []\n",
        "y_transformed = []\n",
        "\n",
        "for i in range(number_of_points):\n",
        "    x.append(i)\n",
        "    y.append(i)\n",
        "    \n",
        "    x_component, y_component = Rotation(i,i, np.pi/2)\n",
        "    x_transformed.append(x_component)\n",
        "    y_transformed.append(y_component)\n",
        "    \n",
        "fig = plt.figure()\n",
        "\n",
        "ax = fig.add_subplot()\n",
        "ay = fig.add_subplot()\n",
        "\n",
        "ax.scatter(x,y,c='r', marker ='*')\n",
        "ay.scatter(x_transformed, y_transformed, c='g', marker = '*')\n",
        "\n",
        "plt.show()"
      ]
    },
    {
      "cell_type": "markdown",
      "metadata": {
        "id": "xBbks-re8DTK"
      },
      "source": [
        "VECTOR SPACES"
      ]
    },
    {
      "cell_type": "code",
      "execution_count": 37,
      "metadata": {
        "id": "n-HeItib7toG"
      },
      "outputs": [],
      "source": [
        "import numpy as np\n",
        "from sympy import Matrix\n",
        "\n",
        "import matplotlib.pyplot as plt\n",
        "from matplotlib.patches import Polygon\n",
        "from matplotlib.collections import PatchCollection\n",
        "import matplotlib"
      ]
    },
    {
      "cell_type": "code",
      "execution_count": 38,
      "metadata": {
        "id": "CUArFuSs8H-A"
      },
      "outputs": [
        {
          "name": "stdout",
          "output_type": "stream",
          "text": [
            "Matrix([[1, 0, -13], [0, 1, 8]])\n",
            "(0, 1)\n"
          ]
        }
      ],
      "source": [
        "B = Matrix([[1,2,3],\n",
        "            [3,5,1]])\n",
        "\n",
        "#print(B.rref())\n",
        "RREF = B.rref()\n",
        "\n",
        "print(RREF[0])\n",
        "print(RREF[1])"
      ]
    },
    {
      "cell_type": "code",
      "execution_count": 39,
      "metadata": {
        "id": "1OuUbUY_8IAP"
      },
      "outputs": [],
      "source": [
        "def fundamental_subspaces(A):\n",
        "    \n",
        "    A = Matrix(A)# We get the matrix A\n",
        "    A_arr = np.array(A)# We get the numpy array\n",
        "    \n",
        "    RREF = A.rref() # We obtain the row reduced echelon form of A\n",
        "\n",
        "    null_space = A.nullspace() # We obtain the null space of A\n",
        "\n",
        "    left_null_space = A.T.nullspace() # We obtain the left null space of A\n",
        "\n",
        "    col_space = [] # Initialization of a list which will contain all the vectors found in the column space of A\n",
        "    \n",
        "    \n",
        "    for i in RREF[1]:\n",
        "\n",
        "        col_space.append(A_arr[:,i]) # Addition of each element of the column space of A to the list col_space\n",
        "\n",
        "    row_space = []  # Initialization of a list which will contain all the vectors found in the row space of A\n",
        "    RREF_t = A.T.rref()\n",
        "\n",
        "    for i in RREF_t[1]:\n",
        "\n",
        "        row_space.append(A_arr[i])# Addition of each element of the row space of A to the list row_space\n",
        "    return null_space, row_space, left_null_space, col_space # returning the fundamental spaces of A"
      ]
    },
    {
      "cell_type": "code",
      "execution_count": 40,
      "metadata": {
        "id": "dl78Tn778ICW"
      },
      "outputs": [
        {
          "name": "stdout",
          "output_type": "stream",
          "text": [
            " Number of rows of A = m =4 = dim(Col(A)) + dim(Left Null(A))= 3 + 1 \n",
            " Number of columns of A = n =3 = dim(Row(A)) + dim(Null(A))= 3 + 0 \n",
            "\n",
            "\n",
            "The Null space is = \n",
            " []\n",
            "\n",
            "\n",
            "The Row space is = \n",
            " [array([2, 2, 5], dtype=object), array([-2, 3, -3], dtype=object), array([4, 5, 9], dtype=object)]\n",
            "\n",
            "\n",
            "The Left Null space is = \n",
            " [Matrix([\n",
            "[-66/7],\n",
            "[-13/7],\n",
            "[ 30/7],\n",
            "[    1]])]\n",
            "\n",
            "\n",
            "The Column space is = \n",
            " [array([2, -2, 4, -2], dtype=object), array([2, 3, 5, 3], dtype=object), array([5, -3, 9, 3], dtype=object)]\n"
          ]
        }
      ],
      "source": [
        "\n",
        "A = [[2,2,5],\n",
        "     [-2,3,-3],\n",
        "     [4,5,9],\n",
        "     [-2,3,3]]\n",
        "null_space, row_space, left_null_space, col_space = fundamental_subspaces(A)\n",
        "\n",
        "print(\" Number of rows of A = m ={} = dim(Col(A)) + dim(Left Null(A))= {} + {} \" .format(len(A), len(col_space), len(left_null_space)))\n",
        "print(\" Number of columns of A = n ={} = dim(Row(A)) + dim(Null(A))= {} + {} \" .format(len(A[0]), len(row_space), len(null_space)))\n",
        "print(\"\\n\")\n",
        "print(\"The Null space is = \\n\", null_space)\n",
        "print(\"\\n\")\n",
        "print(\"The Row space is = \\n\", row_space)\n",
        "print(\"\\n\")\n",
        "print(\"The Left Null space is = \\n\", left_null_space)\n",
        "print(\"\\n\")\n",
        "print(\"The Column space is = \\n\", col_space)\n"
      ]
    },
    {
      "cell_type": "code",
      "execution_count": 41,
      "metadata": {
        "id": "4JWod83O8IEy"
      },
      "outputs": [
        {
          "data": {
            "image/png": "[encoded data removed]",
            "text/plain": [
              "<Figure size 1800x1800 with 1 Axes>"
            ]
          },
          "metadata": {
            "needs_background": "light"
          },
          "output_type": "display_data"
        }
      ],
      "source": [
        "\n",
        "size = 25\n",
        "limits = 5\n",
        "patches = []\n",
        "new_patches = []\n",
        "original_polygon_points = []\n",
        "new_polygon_points = []\n",
        "B = np.array([[3,8],\n",
        "              [0,5]])\n",
        "\n",
        "\n",
        "\n",
        "for i in range( -(limits*limits), (limits*limits)):\n",
        "    for j in range(-(limits*limits), (limits*limits)):\n",
        "        \n",
        "        first_point = [i+1,j+1]\n",
        "        second_point = [i, j+1]\n",
        "        third_point = [i,j]\n",
        "        fourth_point = [i+1,j]\n",
        "        \n",
        "        new_polygon_points.append([np.matmul(B,first_point) ,np.matmul(B,second_point),np.matmul(B,third_point),np.matmul(B,fourth_point) ])\n",
        "        \n",
        "for i in range( -(limits*limits), (limits*limits)):\n",
        "    for j in range(-(limits*limits), (limits*limits)):\n",
        "        original_polygon_points.append([[i+1,j+1],[i,j+1],[i,j],[i+1, j] ])\n",
        "        \n",
        "for i in range(len(original_polygon_points)):\n",
        "    polygon = Polygon(original_polygon_points[i])\n",
        "    patches.append(polygon)\n",
        "    \n",
        "for i in range(len(new_polygon_points)):\n",
        "    polygon = Polygon(new_polygon_points[i])\n",
        "    new_patches.append(polygon)\n",
        "    \n",
        "p1 = PatchCollection(patches, cmap = matplotlib.cm.jet, fc = 'white', ec = 'black' , alpha = 0.3)\n",
        "p2 = PatchCollection(new_patches, cmap = matplotlib.cm.jet, fc = 'white', ec = 'red' , alpha = 0.8)\n",
        "\n",
        "\n",
        "\n",
        "fig = plt.figure()\n",
        "fig.set_size_inches(size, size)\n",
        "ax = plt.subplot()\n",
        "\n",
        "ax.add_collection(p1)\n",
        "ax.add_collection(p2)\n",
        "ax.set_ylim(bottom = -size, top = size)\n",
        "ax.set_xlim(left = -size, right = size)\n",
        "plt.savefig('change_of_base.png')\n",
        "plt.show()"
      ]
    },
    {
      "cell_type": "markdown",
      "metadata": {
        "id": "BEIa58ay8WGL"
      },
      "source": [
        "ORTHOGONALITY"
      ]
    },
    {
      "cell_type": "code",
      "execution_count": 42,
      "metadata": {
        "id": "o2bLCrST7tqs"
      },
      "outputs": [],
      "source": [
        "import numpy as np"
      ]
    },
    {
      "cell_type": "code",
      "execution_count": 43,
      "metadata": {
        "id": "WdPVOaCx8ZeM"
      },
      "outputs": [],
      "source": [
        "A = np.array([[2,3,4,9,0],\n",
        "             [2,1,9,5,7],\n",
        "             [2,7,1,0,0],\n",
        "             [9,8,0,-1,-2]])"
      ]
    },
    {
      "cell_type": "code",
      "execution_count": 44,
      "metadata": {
        "id": "dFAyBb7Q8Zgn"
      },
      "outputs": [
        {
          "name": "stdout",
          "output_type": "stream",
          "text": [
            "[[ 2  3  4  9  0]\n",
            " [ 2  1  9  5  7]\n",
            " [ 2  7  1  0  0]\n",
            " [ 9  8  0 -1 -2]]\n"
          ]
        }
      ],
      "source": [
        "print(A)"
      ]
    },
    {
      "cell_type": "markdown",
      "metadata": {},
      "source": [
        "qr decomposition of A = q which is orthonormal and r which is upper triangular"
      ]
    },
    {
      "cell_type": "code",
      "execution_count": 45,
      "metadata": {
        "id": "mfWLg6hR8ZlV"
      },
      "outputs": [
        {
          "name": "stdout",
          "output_type": "stream",
          "text": [
            "[[-0.20739034  0.18495362 -0.36014235 -0.89054977]\n",
            " [-0.20739034 -0.19308345 -0.88618886  0.36657514]\n",
            " [-0.20739034  0.94102775 -0.04769694  0.26302284]\n",
            " [-0.93325653 -0.20731065  0.28756181  0.05798929]]\n",
            "[[-9.64365076 -9.74734593 -2.90346475 -1.97020822  0.41478068]\n",
            " [ 0.          5.29048649 -0.05690881  0.90647598 -0.93696284]\n",
            " [ 0.          0.         -9.46396607 -7.95978724 -6.77844565]\n",
            " [ 0.          0.          0.         -6.24006154  2.4500474 ]]\n"
          ]
        }
      ],
      "source": [
        "Q,R = np.linalg.qr(A)\n",
        "\n",
        "print(Q)\n",
        "print(R)"
      ]
    },
    {
      "cell_type": "markdown",
      "metadata": {},
      "source": [
        "AX= b\n",
        "X = (ATA)-1 AT b"
      ]
    },
    {
      "cell_type": "code",
      "execution_count": 46,
      "metadata": {
        "id": "Um9l67YP8hQp"
      },
      "outputs": [],
      "source": [
        "def normal_equation(A,b):\n",
        "    \n",
        "    ATA = np.matmul(A.T, A)\n",
        "    \n",
        "    X = np.matmul(np.matmul(np.linalg.inv(ATA), A.T), b)\n",
        "    return X"
      ]
    },
    {
      "cell_type": "code",
      "execution_count": 47,
      "metadata": {
        "id": "q2hxWOEx8hSw"
      },
      "outputs": [
        {
          "name": "stdout",
          "output_type": "stream",
          "text": [
            "[[-5.5       ]\n",
            " [ 3.64285714]]\n"
          ]
        }
      ],
      "source": [
        "A = np.array([[2,3],\n",
        "             [0,1],\n",
        "             [3,5]])\n",
        "\n",
        "b = np.array([[1],\n",
        "              [4],\n",
        "              [1]])\n",
        "X = normal_equation(A,b)\n",
        "print(X)"
      ]
    },
    {
      "cell_type": "markdown",
      "metadata": {
        "id": "aMSgLCyH8upr"
      },
      "source": [
        "DETERMINANT AND TRACE OPERATOR"
      ]
    },
    {
      "cell_type": "code",
      "execution_count": 48,
      "metadata": {
        "id": "3La_NzwY8hXq"
      },
      "outputs": [],
      "source": [
        "import numpy as np"
      ]
    },
    {
      "cell_type": "code",
      "execution_count": 49,
      "metadata": {
        "id": "v94KXsgF8yoc"
      },
      "outputs": [
        {
          "name": "stdout",
          "output_type": "stream",
          "text": [
            "The determinant of A is = \n",
            " 46.99999999999999\n"
          ]
        }
      ],
      "source": [
        "\n",
        "A = np.array([[3,2,1],\n",
        "              [-1,3,0],\n",
        "              [2,2,5]])\n",
        "\n",
        "print(\"The determinant of A is = \\n\", np.linalg.det(A))\n"
      ]
    },
    {
      "cell_type": "code",
      "execution_count": 50,
      "metadata": {
        "id": "hZO6UdWZ8yrA"
      },
      "outputs": [
        {
          "name": "stdout",
          "output_type": "stream",
          "text": [
            "The trace of A is = \n",
            " 111\n",
            "The square root of trace of A(AT) is = \n",
            " 72.16647421067486\n",
            "The frobenius norm of A is = \n",
            " 72.16647421067486\n"
          ]
        }
      ],
      "source": [
        "#sqrt(tr(AAT)) = frobenius(A)\n",
        "A = np.array([[30,2,1],\n",
        "              [1,31,0],\n",
        "              [20,21,50]])\n",
        "print(\"The trace of A is = \\n\", np.trace(A))\n",
        "\n",
        "print(\"The square root of trace of A(AT) is = \\n\", np.sqrt(np.trace(np.matmul(A, A.T))))\n",
        "\n",
        "print(\"The frobenius norm of A is = \\n\", np.linalg.norm(A, 'fro'))"
      ]
    },
    {
      "cell_type": "code",
      "execution_count": 51,
      "metadata": {
        "id": "Z6WBON358yto"
      },
      "outputs": [],
      "source": [
        "def triple_product(A,B,C):\n",
        "    \n",
        "    return np.matmul(np.matmul(A,B),C)"
      ]
    },
    {
      "cell_type": "code",
      "execution_count": 52,
      "metadata": {
        "id": "L4SIO-8o838e"
      },
      "outputs": [
        {
          "name": "stdout",
          "output_type": "stream",
          "text": [
            "The trace of ABC is = \n",
            " 2450\n",
            "The trace of BCA is = \n",
            " 2450\n",
            "The trace of CAB is = \n",
            " 2450\n",
            "The trace of BAC is = \n",
            " 2027\n"
          ]
        }
      ],
      "source": [
        "A = np.array([[3,2,1],\n",
        "              [-1,3,0],\n",
        "              [2,2,5]])\n",
        "B = np.array([[4,2,-1],\n",
        "              [1,-3,40],\n",
        "              [12,22,15]])\n",
        "C = np.array([[0,7,14],\n",
        "              [-10,13,0],\n",
        "              [20,0,0]])\n",
        "\n",
        "print(\"The trace of ABC is = \\n\", np.trace(triple_product(A,B,C)))\n",
        "print(\"The trace of BCA is = \\n\", np.trace(triple_product(B,C,A)))\n",
        "print(\"The trace of CAB is = \\n\", np.trace(triple_product(C,A,B)))\n",
        "print(\"The trace of BAC is = \\n\", np.trace(triple_product(B,A,C)))"
      ]
    },
    {
      "cell_type": "markdown",
      "metadata": {},
      "source": [
        "tr(ABC) = tr(BCA) =tr(CAB)      != tr(BAC)"
      ]
    },
    {
      "cell_type": "markdown",
      "metadata": {
        "id": "j9L2RTCn89uR"
      },
      "source": [
        "MATRIX DECOMPOSITIONS"
      ]
    },
    {
      "cell_type": "code",
      "execution_count": 53,
      "metadata": {
        "id": "Sh0KYmIr84Dz"
      },
      "outputs": [],
      "source": [
        "import numpy as np\n",
        "from numpy.linalg import inv"
      ]
    },
    {
      "cell_type": "code",
      "execution_count": 54,
      "metadata": {
        "id": "F5VmYKls8ywB"
      },
      "outputs": [
        {
          "name": "stdout",
          "output_type": "stream",
          "text": [
            "[-0.37228132  5.37228132]\n",
            "[[-0.82456484 -0.41597356]\n",
            " [ 0.56576746 -0.90937671]]\n"
          ]
        }
      ],
      "source": [
        "A  = np.array([[1,2],\n",
        "              [3,4]])\n",
        "\n",
        "eigen_values, eigen_vectors = np.linalg.eig(A)\n",
        "\n",
        "print(eigen_values)\n",
        "print(eigen_vectors)"
      ]
    },
    {
      "cell_type": "code",
      "execution_count": 55,
      "metadata": {
        "id": "vOs7TAfN9DKd"
      },
      "outputs": [
        {
          "name": "stdout",
          "output_type": "stream",
          "text": [
            "The Eigen values of A are  = \n",
            " [0.3 1. ]\n",
            "The Eigen vectors of A are = \n",
            " [[-0.92847669 -0.70710678]\n",
            " [ 0.37139068 -0.70710678]] \n",
            "\n",
            "the diag is =  [[0.30000000000000004, 0], [0, 1.0]]\n",
            " A =  [[0.5 0.5]\n",
            " [0.2 0.8]]\n",
            "A reconstructed is =  [[0.5 0.5]\n",
            " [0.2 0.8]]\n"
          ]
        }
      ],
      "source": [
        "A = [[0.5,0.5],\n",
        "     [0.2,0.8]]\n",
        "\n",
        "\n",
        "eigen_values, eigen_vectors = np.linalg.eig(A)\n",
        "\n",
        "print(\"The Eigen values of A are  = \\n\", eigen_values)\n",
        "\n",
        "print(\"The Eigen vectors of A are = \\n\", eigen_vectors, \"\\n\")\n",
        "\n",
        "\n",
        "diag_A = [[eigen_values[0],0],\n",
        "          [0,eigen_values[1]]]\n",
        "\n",
        "print(\"the diag is = \", diag_A)\n",
        "\n",
        "\n",
        "A_reconstructed = np.matmul(np.matmul(eigen_vectors, diag_A), inv(eigen_vectors))\n",
        "\n",
        "print(\" A = \", np.array(A))\n",
        "print(\"A reconstructed is = \", A_reconstructed)"
      ]
    },
    {
      "cell_type": "code",
      "execution_count": 56,
      "metadata": {
        "id": "uOtPuO8a9DM3"
      },
      "outputs": [
        {
          "name": "stdout",
          "output_type": "stream",
          "text": [
            "[[0.28461538 0.71538462]\n",
            " [0.28461538 0.71538462]]\n"
          ]
        }
      ],
      "source": [
        "U = np.array([[-0.93,-0.7],\n",
        "              [0.37, -0.7]])\n",
        "D = np.array([[0,0],\n",
        "              [0,1]])\n",
        "print(np.matmul(np.matmul(U,D),inv(U)))"
      ]
    },
    {
      "cell_type": "code",
      "execution_count": 57,
      "metadata": {
        "id": "Ci25E6Y29DPZ"
      },
      "outputs": [
        {
          "name": "stdout",
          "output_type": "stream",
          "text": [
            "The Eigen values of A are  = \n",
            " [5. 2.]\n",
            "The Eigen vectors of A are = \n",
            " [[ 0.89442719 -0.70710678]\n",
            " [ 0.4472136   0.70710678]] \n",
            "\n",
            "the diag is =  [[125.0, 0], [0, 8.0]]\n",
            "The original A ^ 3 is =\n",
            " [[86 78]\n",
            " [39 47]] \n",
            "\n",
            "A reconstructed is = \n",
            " [[86. 78.]\n",
            " [39. 47.]]\n"
          ]
        }
      ],
      "source": [
        "A = [[4,2],\n",
        "     [1,3]]\n",
        "\n",
        "\n",
        "eigen_values, eigen_vectors = np.linalg.eig(A)\n",
        "\n",
        "print(\"The Eigen values of A are  = \\n\", eigen_values)\n",
        "\n",
        "print(\"The Eigen vectors of A are = \\n\", eigen_vectors, \"\\n\")\n",
        "\n",
        "A_to_power_n = A\n",
        "n = 3\n",
        "\n",
        "for i in range(n-1):\n",
        "    A_to_power_n = np.matmul(A_to_power_n, A)\n",
        "\n",
        "diag_A = [[np.power((eigen_values[0]/(np.sqrt(1))), n),0],\n",
        "          [0,np.power((eigen_values[1]/(np.sqrt(1))), n)]]\n",
        "\n",
        "print(\"the diag is = \", diag_A)\n",
        "eigen_vectors_rearranged = eigen_vectors\n",
        "\n",
        "A_reconstructed = np.matmul(np.matmul(eigen_vectors_rearranged, diag_A), inv(eigen_vectors_rearranged))\n",
        "\n",
        "print(\"The original A ^ {} is =\\n\".format(n), A_to_power_n, \"\\n\")\n",
        "\n",
        "print(\"A reconstructed is = \\n\", A_reconstructed)\n"
      ]
    },
    {
      "cell_type": "code",
      "execution_count": 58,
      "metadata": {
        "id": "UEpeP71m9DR7"
      },
      "outputs": [
        {
          "name": "stdout",
          "output_type": "stream",
          "text": [
            "[50.15080316 12.08017862 23.76901822]\n",
            "[[ 4.  0.  0.]\n",
            " [-2.  5.  0.]\n",
            " [-1.  2.  6.]]\n",
            "[[ 4. -2. -1.]\n",
            " [ 0.  5.  2.]\n",
            " [ 0.  0.  6.]]\n",
            "[[16. -8. -4.]\n",
            " [-8. 29. 12.]\n",
            " [-4. 12. 41.]]\n"
          ]
        }
      ],
      "source": [
        "A = np.array([[16,-8,-4],\n",
        "              [-8,29,12],\n",
        "              [-4,12,41]])\n",
        "eigen_values, _ = np.linalg.eig(A)\n",
        "\n",
        "print(eigen_values)\n",
        "\n",
        "L = np.linalg.cholesky(A)\n",
        "print(L)\n",
        "print(L.T)\n",
        "print(np.matmul(L,L.T))"
      ]
    },
    {
      "cell_type": "code",
      "execution_count": 59,
      "metadata": {
        "id": "Rn7SLb9g9DUA"
      },
      "outputs": [
        {
          "name": "stdout",
          "output_type": "stream",
          "text": [
            "The value of U is =\n",
            " [[-0.33333333  0.66666667 -0.66666667]\n",
            " [ 0.66666667  0.66666667  0.33333333]\n",
            " [-0.66666667  0.33333333  0.66666667]] \n",
            "\n",
            "The singular values are = [4.24264069 0.        ] \n",
            "\n",
            "The value of V.T is =\n",
            " [[-0.70710678  0.70710678]\n",
            " [ 0.70710678  0.70710678]]\n"
          ]
        }
      ],
      "source": [
        "A = np.array([[1,-1],\n",
        "              [-2, 2], \n",
        "              [2, -2]])\n",
        "\n",
        "u, s, vh = np.linalg.svd(A)\n",
        "print(\"The value of U is =\\n\",u,\"\\n\")\n",
        "print(\"The singular values are =\", s,\"\\n\")\n",
        "print(\"The value of V.T is =\\n\", vh)"
      ]
    },
    {
      "cell_type": "code",
      "execution_count": 61,
      "metadata": {
        "id": "9g-SH5FG9R4p"
      },
      "outputs": [],
      "source": [
        "def get_rank(A):\n",
        "    u, s, vh = np.linalg.svd(A, full_matrices=True)\n",
        "    rank = 0\n",
        "    for i in s:\n",
        "        if i!=0.0:\n",
        "            rank += 1\n",
        "    return rank\n",
        "\n",
        "def get_col_space(A):\n",
        "    rank = get_rank(A)\n",
        "    col_space = np.transpose(A)[0:rank]\n",
        "    return col_space\n",
        "\n",
        "def get_null_space(A):\n",
        "    rank = get_rank(A)\n",
        "    col_space = np.transpose(A)[rank:len(A.T)]\n",
        "    return col_space"
      ]
    },
    {
      "cell_type": "markdown",
      "metadata": {
        "id": "yo2bUr9B-sHQ"
      },
      "source": [
        "LINEAR REGRESSION"
      ]
    },
    {
      "cell_type": "code",
      "execution_count": 62,
      "metadata": {
        "id": "c5yxH2IP-wuH"
      },
      "outputs": [],
      "source": [
        "'''\n",
        "Import of Useful Packages\n",
        "'''\n",
        "%matplotlib inline\n",
        "import numpy as np\n",
        "import matplotlib.pyplot as plt\n",
        "from numpy.linalg import inv\n",
        "import pandas as pd\n",
        "import random\n",
        "import statistics"
      ]
    },
    {
      "cell_type": "code",
      "execution_count": 63,
      "metadata": {
        "id": "1JbBQsN9-4V5"
      },
      "outputs": [],
      "source": [
        "def normal_equation_solution(B,y):\n",
        "    '''\n",
        "    Inputs: B (m by n matrix), y (m by 1 matrix)\n",
        "    Bx = y\n",
        "    Im = O\n",
        "    Output: x'min  = (BTB)-1 (BT)(y)\n",
        "    '''\n",
        "    BTB = np.matmul(B.T, B)\n",
        "    BTBinvBT = np.matmul(inv(BTB), B.T)\n",
        "    x_prime_min = np.matmul(BTBinvBT,y)\n",
        "    \n",
        "    return x_prime_min"
      ]
    },
    {
      "cell_type": "code",
      "execution_count": 64,
      "metadata": {
        "id": "yfPTXlWl-4YN"
      },
      "outputs": [
        {
          "name": "stdout",
          "output_type": "stream",
          "text": [
            "(3, 1)\n",
            "[[-0.38461538]\n",
            " [ 2.30769231]]\n"
          ]
        }
      ],
      "source": [
        "B = np.array([[4,1],\n",
        "              [0,1],\n",
        "              [1,1]])\n",
        "\n",
        "y = np.array([[1],\n",
        "              [3],\n",
        "              [1]])\n",
        "print(y.shape)\n",
        "print(normal_equation_solution(B,y))"
      ]
    },
    {
      "cell_type": "code",
      "execution_count": 66,
      "metadata": {},
      "outputs": [],
      "source": [
        "def output_data_from_file(filename):\n",
        "    train = pd.read_csv(filename)\n",
        "    return train"
      ]
    },
    {
      "cell_type": "code",
      "execution_count": null,
      "metadata": {
        "id": "i0rB-lJB-4ag"
      },
      "outputs": [],
      "source": [
        "train_data = output_data_from_file(\"train.csv\")\n",
        "\n",
        "train_data = np.array(train_data)\n",
        "print(train_data[:,1:])\n",
        "#print(train_data[0:100,:])"
      ]
    },
    {
      "cell_type": "code",
      "execution_count": 71,
      "metadata": {
        "id": "6NOJKQ4S-4cp"
      },
      "outputs": [],
      "source": [
        "def data_processing(train_data):\n",
        "    \n",
        "    '''\n",
        "    Input: extracted from csv file which is train data\n",
        "    \n",
        "    Ouputs: MsSubClass, LotFrontage, LotArwea and Saleprice\n",
        "    \n",
        "    '''\n",
        "\n",
        "    MsSubClass =train_data[:,1]\n",
        "\n",
        "    LotFrontage = []\n",
        "    for i in range(len(train_data[:,2])):\n",
        "\n",
        "        if (np.isnan(train_data[:,2][i])):\n",
        "            LotFrontage.append(random.randrange(0,125))\n",
        "        else:\n",
        "            LotFrontage.append(train_data[:,2][i])\n",
        "\n",
        "    LotArea =train_data[:,3]\n",
        "\n",
        "\n",
        "    SalePrice = train_data[:,4]\n",
        "    \n",
        "    return MsSubClass, LotFrontage, LotArea, SalePrice"
      ]
    },
    {
      "cell_type": "code",
      "execution_count": null,
      "metadata": {
        "id": "TZ13poYv-4e6"
      },
      "outputs": [],
      "source": [
        "\n",
        "MsSubClass, LotFrontage, LotArea, SalePrice = data_processing(train_data)\n",
        "\n",
        "plt.scatter(MsSubClass, SalePrice)\n",
        "plt.show()\n",
        "\n",
        "plt.scatter(LotFrontage, SalePrice)\n",
        "plt.show()\n",
        "\n",
        "plt.scatter(LotArea, SalePrice)\n",
        "plt.show()"
      ]
    },
    {
      "cell_type": "code",
      "execution_count": null,
      "metadata": {
        "id": "imNP9Dc3_T5z"
      },
      "outputs": [],
      "source": [
        "I = np.array([MsSubClass, LotFrontage, LotArea])\n",
        "print(I.shape)\n",
        "I = I.T\n",
        "print(I.shape)\n",
        "\n",
        "\n",
        "O = np.array(SalePrice)\n",
        "print(O.shape)\n"
      ]
    },
    {
      "cell_type": "code",
      "execution_count": null,
      "metadata": {
        "id": "n2BcQGxg-4hY"
      },
      "outputs": [],
      "source": [
        "#m = weights\n",
        "print(\"The normal equation solution is m =  \", normal_equation_solution(I,O))"
      ]
    },
    {
      "cell_type": "code",
      "execution_count": null,
      "metadata": {
        "id": "SpKnv5yB-4j_"
      },
      "outputs": [],
      "source": [
        "print(I.shape)\n",
        "\n",
        "I_train = I[:1450,:]\n",
        "O_train = O[:1450]\n",
        "\n",
        "I_test = I[1450:,:]\n",
        "O_test = O[1450:]\n",
        "print(O_test)\n"
      ]
    },
    {
      "cell_type": "code",
      "execution_count": null,
      "metadata": {
        "id": "aQ6ui9Qg_cc2"
      },
      "outputs": [],
      "source": [
        "weights = normal_equation_solution(I_train,O_train)\n",
        "print(\"The normal equation solution is = \", normal_equation_solution(I_train,O_train))"
      ]
    },
    {
      "cell_type": "code",
      "execution_count": null,
      "metadata": {
        "id": "zW6TbxM1_pWQ"
      },
      "outputs": [],
      "source": [
        "print(SalePrice[1450:])"
      ]
    },
    {
      "cell_type": "code",
      "execution_count": null,
      "metadata": {
        "id": "6xHxNWqV_cfc"
      },
      "outputs": [],
      "source": [
        "O_test_approximation = np.matmul(I_test,weights)\n",
        "#print(O_test_approximation)\n",
        "error = 0\n",
        "for i in range(len(O_test_approximation)):\n",
        "    \n",
        "    print(\"----> \",O_test[i],\"---\",  O_test_approximation[i])\n",
        "    \n",
        "    error = error+ (O_test[i]-O_test_approximation[i])**2"
      ]
    },
    {
      "cell_type": "code",
      "execution_count": null,
      "metadata": {
        "id": "bgHKQ-of_0P1"
      },
      "outputs": [],
      "source": [
        "print(\"The total test error = \", np.sqrt(error)) "
      ]
    },
    {
      "cell_type": "code",
      "execution_count": null,
      "metadata": {
        "id": "g24IatRx_ciF"
      },
      "outputs": [],
      "source": [
        "training_data = np.array([MsSubClass, LotFrontage, LotArea])\n",
        "print(training_data.T)"
      ]
    },
    {
      "cell_type": "code",
      "execution_count": null,
      "metadata": {
        "id": "uvcAR2xX_ckh"
      },
      "outputs": [],
      "source": [
        "training_data = training_data.T"
      ]
    },
    {
      "cell_type": "code",
      "execution_count": null,
      "metadata": {
        "id": "lH6eTP3qAHut"
      },
      "outputs": [],
      "source": [
        "train_data = training_data\n",
        "print(train_data)"
      ]
    },
    {
      "cell_type": "code",
      "execution_count": null,
      "metadata": {
        "id": "zY5uBFK5AEcA"
      },
      "outputs": [],
      "source": [
        "def standardize(X):\n",
        "    '''\n",
        "    Inputs: X\n",
        "    Ouputs: Xstandardized, means\n",
        "    '''\n",
        "    \n",
        "    means = [0]*3\n",
        "    \n",
        "    for i in range(3):\n",
        "\n",
        "        means[i] = statistics.mean(X[:,i])\n",
        "    print(means)\n",
        "    for i in range(1460):\n",
        "        for j in range(3):\n",
        "            \n",
        "            X[i][j] = (X[i][j] - means[j])/255\n",
        "\n",
        "    return X,means"
      ]
    },
    {
      "cell_type": "code",
      "execution_count": null,
      "metadata": {
        "id": "DaKNdOQGAEel"
      },
      "outputs": [],
      "source": [
        "def get_eigs(X):\n",
        "    '''\n",
        "    Input: X\n",
        "    Outputs: Eigen valuea and the eigen vectors of xxT\n",
        "    '''\n",
        "    \n",
        "    eigen_values, eigen_vectors = np.linalg.eigh(get_covariance_matrix(X))\n",
        "    \n",
        "    eigen_values, eigen_vectors = sort_eigs(eigen_values,eigen_vectors)\n",
        "    \n",
        "    singular_values =  square_root(eigen_values)\n",
        "    return singular_values, eigen_vectors"
      ]
    },
    {
      "cell_type": "code",
      "execution_count": null,
      "metadata": {
        "id": "QpOnpDeo_cms"
      },
      "outputs": [],
      "source": [
        "def get_covariance_matrix(X):\n",
        "    return np.matmul(X.T,X)"
      ]
    },
    {
      "cell_type": "code",
      "execution_count": null,
      "metadata": {
        "id": "uoljC4nCBkVz"
      },
      "outputs": [],
      "source": [
        "def sort_eigs(eigen_values,eigen_vectors):\n",
        "    sorted_indices = eigen_values.argsort()[::-1]\n",
        "    eigen_values = eigen_values[sorted_indices]\n",
        "    eigen_vectors = eigen_vectors[:,sorted_indices]\n",
        "    \n",
        "    return eigen_values, eigen_vectors"
      ]
    },
    {
      "cell_type": "code",
      "execution_count": null,
      "metadata": {
        "id": "GZU51n3uBkYg"
      },
      "outputs": [],
      "source": [
        "def square_root(eigen_values):\n",
        "    singular_values =  [0]*len(eigen_values)\n",
        "    \n",
        "    for i in range(len(eigen_values)):\n",
        "        \n",
        "        if eigen_values[i]<0:\n",
        "            singular_values[i] = 0\n",
        "        else:\n",
        "            singular_values[i] = np.sqrt(eigen_values[i])\n",
        "    \n",
        "    return singular_values"
      ]
    },
    {
      "cell_type": "code",
      "execution_count": null,
      "metadata": {
        "id": "COYoeOV3BkbB"
      },
      "outputs": [],
      "source": [
        "def get_rank (eigen_values):\n",
        "    threshold = 0.0000001\n",
        "    rank = len(eigen_values)\n",
        "    for i in range(len(eigen_values)):\n",
        "        if ((eigen_values[i]/eigen_values[0])<threshold):\n",
        "            \n",
        "            rank = i\n",
        "            break\n",
        "    \n",
        "    return rank"
      ]
    },
    {
      "cell_type": "code",
      "execution_count": null,
      "metadata": {
        "id": "qPEK2MyaBkdf"
      },
      "outputs": [],
      "source": [
        "def get_V(X,singular_values, eigen_vectors):\n",
        "    \n",
        "    rank = get_rank(singular_values)\n",
        "    U_r = eigen_vectors[:,0:rank]\n",
        "    \n",
        "    #sigma_r = np.zeros((rank,rank))\n",
        "    \n",
        "    #for i in range(rank):\n",
        "    #    sigma_r[i][i] = singular_values[i]\n",
        "    \n",
        "    #V_r = np.matmul(np.matmul(X.T,U_r) ,np.linalg.inv(sigma_r))\n",
        "    return U_r"
      ]
    },
    {
      "cell_type": "code",
      "execution_count": null,
      "metadata": {
        "id": "kRTwCimPBkgt"
      },
      "outputs": [],
      "source": [
        "def projection(X,B):\n",
        "    \n",
        "    return np.matmul(X,B)"
      ]
    },
    {
      "cell_type": "code",
      "execution_count": null,
      "metadata": {
        "id": "FkVw7LWuBkkU"
      },
      "outputs": [],
      "source": [
        "X_train = training_data\n",
        "X_train, means =  standardize (X_train)\n",
        "    \n",
        "eigen_values, eigen_vectors  = get_eigs(X_train)\n",
        "\n",
        "V_r = get_V(X_train, eigen_values, eigen_vectors)\n",
        "    \n",
        "B = V_r \n",
        "\n",
        "print(\"This is our Base B=\", B.shape)\n",
        "\n",
        "X_train = projection(X_train, B)"
      ]
    },
    {
      "cell_type": "code",
      "execution_count": null,
      "metadata": {
        "id": "Hr1O0SQ9BtfK"
      },
      "outputs": [],
      "source": [
        "print(B)"
      ]
    },
    {
      "cell_type": "code",
      "execution_count": null,
      "metadata": {
        "id": "BdK6XSpNBth_"
      },
      "outputs": [],
      "source": [
        "B_2 = B[:,:2]\n",
        "print(B_2)"
      ]
    },
    {
      "cell_type": "code",
      "execution_count": null,
      "metadata": {
        "id": "0_EyaXTpBtku"
      },
      "outputs": [],
      "source": [
        "B_1 = B[:,:1]\n",
        "print(B_1)"
      ]
    },
    {
      "cell_type": "code",
      "execution_count": null,
      "metadata": {
        "id": "mXLiQhpBBtnG"
      },
      "outputs": [],
      "source": [
        "print(train_data)"
      ]
    },
    {
      "cell_type": "code",
      "execution_count": null,
      "metadata": {
        "id": "wQs7DCNdB1Eq"
      },
      "outputs": [],
      "source": [
        "training_data_1 = np.matmul(train_data,B_1)\n",
        "training_data_2 = np.matmul(train_data,B_2)"
      ]
    },
    {
      "cell_type": "code",
      "execution_count": null,
      "metadata": {
        "id": "Ui4a9yPvBtp0"
      },
      "outputs": [],
      "source": [
        "\n",
        "from mpl_toolkits.mplot3d import Axes3D\n",
        "fig = plt.figure(figsize=(20,20))\n",
        "ax = fig.add_subplot(111, projection='3d')\n",
        "ax = fig.add_subplot(111, projection='3d')\n",
        "\n",
        "ax.scatter(training_data_2[:,0],training_data_2[:,1], SalePrice, c='r', marker='o')\n",
        "\n",
        "ax.scatter(training_data_1[:,0], SalePrice, c='b', marker='o')\n",
        "\n",
        "\n",
        "plt.show()"
      ]
    },
    {
      "cell_type": "code",
      "execution_count": null,
      "metadata": {
        "id": "Mx2IRkgyB5s6"
      },
      "outputs": [],
      "source": [
        "plt.scatter(training_data_1[:,0], SalePrice)\n",
        "plt.show()"
      ]
    },
    {
      "cell_type": "code",
      "execution_count": null,
      "metadata": {
        "id": "z7eLhFgUB5vm"
      },
      "outputs": [],
      "source": [
        "plt.scatter(LotArea, SalePrice)\n",
        "plt.show()"
      ]
    },
    {
      "cell_type": "markdown",
      "metadata": {
        "id": "BMHUW5nH-xAc"
      },
      "source": [
        "PCA ALGORITHM"
      ]
    },
    {
      "cell_type": "code",
      "execution_count": 71,
      "metadata": {
        "id": "-3d-AA0B9R9r"
      },
      "outputs": [],
      "source": [
        "'''\n",
        "imports\n",
        "'''\n",
        "import numpy as np\n",
        "import os\n",
        "import cv2\n",
        "from sklearn import svm\n",
        "import matplotlib.pyplot as plt\n",
        "import matplotlib.image as mpimg\n",
        "import statistics"
      ]
    },
    {
      "cell_type": "code",
      "execution_count": 73,
      "metadata": {
        "id": "J5DKc_HB9SAB"
      },
      "outputs": [],
      "source": [
        "def train(X_train,y_train):\n",
        "    #Create a svm Classifier\n",
        "    model = svm.SVC(kernel='linear') # Linear Kernel\n",
        "\n",
        "    #Train the model using the training sets\n",
        "    model.fit(X_train, y_train)\n",
        "    \n",
        "    return model"
      ]
    },
    {
      "cell_type": "code",
      "execution_count": 74,
      "metadata": {
        "id": "isX9JD63CHYk"
      },
      "outputs": [],
      "source": [
        "def projection(X,B):\n",
        "    \n",
        "    return np.matmul(X,B)"
      ]
    },
    {
      "cell_type": "code",
      "execution_count": 75,
      "metadata": {
        "id": "AMhqBv65CHdy"
      },
      "outputs": [],
      "source": [
        "def get_V(X,singular_values, eigen_vectors):\n",
        "    \n",
        "    rank = get_rank(singular_values)\n",
        "    U_r = eigen_vectors[:,0:rank]\n",
        "    \n",
        "    sigma_r = np.zeros((rank,rank))\n",
        "    \n",
        "    for i in range(rank):\n",
        "        sigma_r[i][i] = singular_values[i]\n",
        "    \n",
        "    V_r = np.matmul(np.matmul(X.T,U_r) ,np.linalg.inv(sigma_r))\n",
        "    return V_r"
      ]
    },
    {
      "cell_type": "code",
      "execution_count": 76,
      "metadata": {
        "id": "uTNfOK6ICHgG"
      },
      "outputs": [],
      "source": [
        "def get_rank (eigen_values):\n",
        "    threshold = 0.01\n",
        "    \n",
        "    for i in range(len(eigen_values)):\n",
        "        if ((eigen_values[i]/eigen_values[0])<threshold):\n",
        "            \n",
        "            rank = i\n",
        "            break\n",
        "    \n",
        "    return rank"
      ]
    },
    {
      "cell_type": "code",
      "execution_count": 78,
      "metadata": {
        "id": "UMhNzP2sCHiv"
      },
      "outputs": [],
      "source": [
        "def square_root(eigen_values):\n",
        "    singular_values =  [0]*len(eigen_values)\n",
        "    \n",
        "    for i in range(len(eigen_values)):\n",
        "        \n",
        "        if eigen_values[i]<0:\n",
        "            singular_values[i] = 0\n",
        "        else:\n",
        "            singular_values[i] = np.sqrt(eigen_values[i])\n",
        "    \n",
        "    return singular_values"
      ]
    },
    {
      "cell_type": "code",
      "execution_count": 79,
      "metadata": {
        "id": "JlSlk9FACHlH"
      },
      "outputs": [],
      "source": [
        "def sort_eigs(eigen_values,eigen_vectors):\n",
        "    sorted_indices = eigen_values.argsort()[::-1]\n",
        "    eigen_values = eigen_values[sorted_indices]\n",
        "    eigen_vectors = eigen_vectors[:,sorted_indices]\n",
        "    \n",
        "    return eigen_values, eigen_vectors"
      ]
    },
    {
      "cell_type": "code",
      "execution_count": 80,
      "metadata": {
        "id": "wlV-MPbuCHn1"
      },
      "outputs": [],
      "source": [
        "def get_covariance_matrix(X):\n",
        "    return np.matmul(X,X.T)"
      ]
    },
    {
      "cell_type": "code",
      "execution_count": 81,
      "metadata": {
        "id": "rxoFQuxWCUSr"
      },
      "outputs": [],
      "source": [
        "def get_eigs(X):\n",
        "    '''\n",
        "    Input: X\n",
        "    Outputs: Eigen valuea and the eigen vectors of xxT\n",
        "    '''\n",
        "    \n",
        "    eigen_values, eigen_vectors = np.linalg.eigh(get_covariance_matrix(X))\n",
        "    \n",
        "    eigen_values, eigen_vectors = sort_eigs(eigen_values,eigen_vectors)\n",
        "    \n",
        "    singular_values =  square_root(eigen_values)\n",
        "    return singular_values, eigen_vectors"
      ]
    },
    {
      "cell_type": "code",
      "execution_count": 83,
      "metadata": {
        "id": "L4sAwPQFCUVM"
      },
      "outputs": [],
      "source": [
        "def standardize(X, train = True, means =[]):\n",
        "    '''\n",
        "    Inputs: X\n",
        "    Ouputs: Xstandardized, means\n",
        "    '''\n",
        "    if (train):\n",
        "        \n",
        "        means = [0]*RESIZE * RESIZE\n",
        "        \n",
        "        for i in range(len(means)):\n",
        "            \n",
        "            means[i] = statistics.mean(X[:,i])\n",
        "        \n",
        "        for i in range(len(train_directory_list)):\n",
        "            for j in range(RESIZE*RESIZE):\n",
        "                X[i][j] = (X[i][j] - means[j])/255\n",
        "        \n",
        "        return X,means\n",
        "    else:\n",
        "        for i in range(1):\n",
        "            for j in range(RESIZE*RESIZE):\n",
        "                X[i][j] = (X[i][j] - means[j])/255\n",
        "                \n",
        "        return X"
      ]
    },
    {
      "cell_type": "code",
      "execution_count": null,
      "metadata": {
        "id": "ZGL7TBtZCUXq"
      },
      "outputs": [],
      "source": [
        "def flatten(X_t, train = True):\n",
        "    '''\n",
        "    INputs: X, train or not test_directory or train directory\n",
        "    Ouput: flattened X\n",
        "    \n",
        "    (40,100,100) ---> (40, 10000)\n",
        "    '''\n",
        "    if (train):\n",
        "        X = [[None]*RESIZE*RESIZE] * len(train_directory_list) # 40, 10000\n",
        "\n",
        "        for i in range (len(train_directory_list)):\n",
        "            X[i] = X_t[i].flatten()\n",
        "    else:\n",
        "        X = [[None]*RESIZE*RESIZE] * 1 # 1, 10000\n",
        "\n",
        "        for i in range (1):\n",
        "            X[i] = X_t[i].flatten()\n",
        "\n",
        "    return np.array(X)"
      ]
    },
    {
      "cell_type": "code",
      "execution_count": null,
      "metadata": {
        "id": "ki_EP3dSCUaJ"
      },
      "outputs": [],
      "source": [
        "train_directory = \"/\"    \n",
        "train_directory_list=os.listdir(train_directory)\n",
        "    \n",
        "directory_list = train_directory_list\n",
        "\n",
        "RESIZE = 100\n",
        "\n",
        "X_train, _ = read_and_process_image(directory_list, celebrity = \"simi\")\n",
        "\n",
        "print(X_train.shape)\n",
        "\n",
        "print(flatten(X_train).shape)\n",
        "X_train = flatten(X_train) \n",
        "print(X_train.shape)\n",
        "X_standardized, means = standardize(X_train)\n",
        "\n",
        "print(X_standardized.shape)\n",
        "\n",
        "singular_values, eigen_vectors = get_eigs(X_standardized)\n",
        "\n",
        "print(singular_values)\n",
        "print(eigen_vectors)\n",
        "\n",
        "print(get_rank(singular_values))\n",
        "\n",
        "\n",
        "print(get_V(X_train,singular_values,eigen_vectors))"
      ]
    },
    {
      "cell_type": "code",
      "execution_count": null,
      "metadata": {
        "id": "V7Rc-RcUCUdI"
      },
      "outputs": [],
      "source": [
        "test_directory = \"/\"    \n",
        "test_directory_list=os.listdir(test_directory)\n",
        "    \n",
        "directory_list = test_directory_list\n",
        "\n",
        "RESIZE = 100\n",
        "\n",
        "X_test = read_and_process_image(directory_list, train = False, celebrity = \"simi\")\n",
        "\n",
        "print(X_test.shape)\n",
        "X_test = flatten(X_train, train = False)\n",
        "print(X_test.shape)\n",
        "X_test = standardize(X_test, train = False, means = means)\n",
        "\n",
        "print(X_test)"
      ]
    },
    {
      "cell_type": "code",
      "execution_count": 86,
      "metadata": {
        "id": "YUnLcW4lCUf0"
      },
      "outputs": [],
      "source": [
        "def read_and_process_image(directory_list, train=True , celebrity = \"ben\"):\n",
        "    '''\n",
        "    Inputs: directory list, whether train or test, celebrity name in the form of a string\n",
        "    Outputs the data which we'll be needing to train the model (X,y)\n",
        "    \n",
        "    '''\n",
        "    \n",
        "    X = []\n",
        "    y = []\n",
        "    \n",
        "    for image in directory_list:\n",
        "        if (train):\n",
        "            img = cv2.imread(train_directory+image, cv2.IMREAD_GRAYSCALE)\n",
        "        else:\n",
        "            img = cv2.imread(test_directory+image, cv2.IMREAD_GRAYSCALE)\n",
        "    \n",
        "    \n",
        "        img = cv2.resize(img, (RESIZE, RESIZE))\n",
        "        img = img.astype(float)\n",
        "        \n",
        "        X.append(img)\n",
        "        \n",
        "        if (train):\n",
        "            \n",
        "            if (celebrity.lower() in image):\n",
        "                y.append(1)\n",
        "                \n",
        "            else:\n",
        "                y.append(0)\n",
        "    \n",
        "    if (train):\n",
        "        return np.array(X),np.array(y)\n",
        "    else:\n",
        "        return np.array(X)"
      ]
    },
    {
      "cell_type": "code",
      "execution_count": null,
      "metadata": {
        "id": "NNrUj1_ACUh3"
      },
      "outputs": [],
      "source": [
        "train_directory = \"/\"    \n",
        "train_directory_list=os.listdir(train_directory)\n",
        "    \n",
        "directory_list = train_directory_list\n",
        "\n",
        "\n",
        "X_train,y_train = read_and_process_image(directory_list, train = True, celebrity =\"richard\")\n",
        "\n",
        "print(y_train)\n",
        "\n",
        "\n",
        "test_directory = \"/\"    \n",
        "test_directory_list=os.listdir(test_directory)\n",
        "    \n",
        "directory_list = test_directory_list\n",
        "\n",
        "\n",
        "X_test = read_and_process_image(directory_list, train = False, celebrity =[\"simi\"])\n",
        "\n",
        "print(X_test.shape)"
      ]
    },
    {
      "cell_type": "code",
      "execution_count": null,
      "metadata": {
        "id": "-vsiSpWKCjVu"
      },
      "outputs": [],
      "source": [
        "def verification (B, model, means, test_celebrity):\n",
        "    '''\n",
        "    Inputs: B, model, means, test data\n",
        "    Ouput: prediction\n",
        "    '''\n",
        "    \n",
        "    X_test = read_and_process_image(test_celebrity, train = False) \n",
        "    \n",
        "    X_test = flatten(X_test, train = False)\n",
        "    \n",
        "    X_test = standardize(X_test, train = False, means=means)\n",
        "    \n",
        "    X_test = projection(X_test, B)\n",
        "    \n",
        "    y_pred = model.predict(X_test)\n",
        "    \n",
        "    return y_pred # [0] or [1]"
      ]
    },
    {
      "cell_type": "code",
      "execution_count": null,
      "metadata": {
        "id": "tlbBzfzcCjYl"
      },
      "outputs": [],
      "source": [
        "def generate_weight(celebrity): \n",
        "    \n",
        "    '''\n",
        "    Input celebrity \n",
        "    Ouputs weights, B, means\n",
        "    '''\n",
        "    \n",
        "    train_directory = \"/\"\n",
        "    \n",
        "    train_directory_list=os.listdir(train_directory)\n",
        "    \n",
        "    X_train, y_train = read_and_process_image(train_directory_list, train = True, celebrity=celebrity) # (40,100,100), (40,)\n",
        "    \n",
        "    X_train =  flatten(X_train) #(40,10000)\n",
        "    \n",
        "    X_train, means =  standardize (X_train)\n",
        "    \n",
        "    \n",
        "    eigen_values, eigen_vectors  = get_eigs(X_train)\n",
        "    \n",
        "    \n",
        "    V_r = get_V(X_train, eigen_values, eigen_vectors)\n",
        "    \n",
        "    \n",
        "    B = V_r \n",
        "    \n",
        "    print(\"This is our Base B=\", B.shape)\n",
        "    \n",
        "    X_train = projection(X_train, B)\n",
        "    \n",
        "    weight = train (X_train, y_train)\n",
        "    \n",
        "    return  weight, np.array(B), np.array(means)"
      ]
    },
    {
      "cell_type": "code",
      "execution_count": null,
      "metadata": {
        "id": "SwBBsch-CjbA"
      },
      "outputs": [],
      "source": [
        "celebrities = [\"Ben\", \"Bob\", \"Simi\", \"Richard\", \"Dipanda\"]\n",
        "\n",
        "RESIZE = 100\n",
        "weights = []"
      ]
    },
    {
      "cell_type": "code",
      "execution_count": null,
      "metadata": {
        "id": "CNv8ujHeCHq3"
      },
      "outputs": [],
      "source": [
        "for c in celebrities:\n",
        "    \n",
        "    weight, B, means = generate_weight(c)\n",
        "    weights.append(weight)"
      ]
    },
    {
      "cell_type": "code",
      "execution_count": null,
      "metadata": {
        "id": "FBffMjOKCvoo"
      },
      "outputs": [],
      "source": [
        "test_directory = \"/\"\n",
        "test_directory_list =os.listdir(test_directory)\n",
        "print(test_directory_list)"
      ]
    },
    {
      "cell_type": "code",
      "execution_count": null,
      "metadata": {
        "id": "an7kpWarCyJ7"
      },
      "outputs": [],
      "source": [
        "\n",
        "for test_celeb in test_directory_list:\n",
        "    found = False\n",
        "    print(test_directory+test_celeb)\n",
        "    im = mpimg.imread(test_directory+test_celeb)\n",
        "    im = plt.imshow(im)\n",
        "    plt.show()\n",
        "    \n",
        "    test_celebrity = []\n",
        "    test_celebrity.append(test_celeb)\n",
        "    print(test_celebrity)\n",
        "    i = 0\n",
        "    for c in celebrities:\n",
        "        print(test_celebrity)\n",
        "        \n",
        "        if (verification (B,weights[i],means, test_celebrity)== [1]):\n",
        "            found = True\n",
        "            print(\"This image has been recognized as: \", c)\n",
        "            break\n",
        "        i+=1 # i = i+1 \n",
        "        \n",
        "    if (found ==  False):\n",
        "        print(\"This person is not found in the database!!!\")"
      ]
    }
  ],
  "metadata": {
    "colab": {
      "authorship_tag": "ABX9TyMd6R+G4RyLGyEyvEscFGSw",
      "include_colab_link": true,
      "name": "Complete Linear Algebra Course by Neuralearn.ai.ipynb",
      "provenance": []
    },
    "kernelspec": {
      "display_name": "Python 3",
      "name": "python3"
    },
    "language_info": {
      "codemirror_mode": {
        "name": "ipython",
        "version": 3
      },
      "file_extension": ".py",
      "mimetype": "text/x-python",
      "name": "python",
      "nbconvert_exporter": "python",
      "pygments_lexer": "ipython3",
      "version": "3.9.7"
    }
  },
  "nbformat": 4,
  "nbformat_minor": 0
}
