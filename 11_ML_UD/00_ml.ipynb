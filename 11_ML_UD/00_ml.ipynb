{
 "cells": [
  {
   "cell_type": "markdown",
   "metadata": {},
   "source": [
    "Fill missing data"
   ]
  },
  {
   "cell_type": "code",
   "execution_count": 59,
   "metadata": {},
   "outputs": [],
   "source": [
    "import numpy as np\n",
    "import pandas as pd"
   ]
  },
  {
   "cell_type": "code",
   "execution_count": 60,
   "metadata": {},
   "outputs": [
    {
     "name": "stdout",
     "output_type": "stream",
     "text": [
      "[['Site Arqueologia Egípcia' 13438.0 406590.0]\n",
      " ['Terra Negra' 35241.0 868235.0]\n",
      " ['Frank Jaava' nan nan]\n",
      " ['Dispersciência' 25100.0 150000.0]\n",
      " ['Olá Ciência' 32788.0 1575456.0]\n",
      " ['A matemaníaca por Julia Jaccoud' 65453.0 1667892.0]\n",
      " ['Delta T - Os super lentos' 12000.0 171361.0]\n",
      " ['Bláblálogia' 161951.0 11027386.0]\n",
      " ['Efarsas' 78876.0 6226235.0]\n",
      " ['Minuto da Terra' 274196.0 30166457.0]\n",
      " ['Canal Cura Quântica' 13148.0 250020.0]\n",
      " ['Mensageiro Sideral' 72425.0 7551491.0]\n",
      " ['Universo Racionalista' 7858.0 43662.0]\n",
      " ['Xadrez Verbal' 110549.0 4151548.0]\n",
      " ['Reinaldo José Lopes' 11188.0 541832.0]\n",
      " [\"Bio's Fera\" 5299.0 44312.0]\n",
      " ['QuerQueDesenhe' 56006.0 1329268.0]\n",
      " ['Prof André Azevedo da Fonseca' 45756.0 1825724.0]\n",
      " ['Matemática Rio com Prof Rafael Procópio' 1423056.0 93036517.0]\n",
      " ['Ponto em Comum' 129466.0 5027880.0]\n",
      " ['Canal do Slow' 137409.0 5363423.0]\n",
      " ['Boteco Behaviorista' 18404.0 1427977.0]\n",
      " ['Papo de Primata' 42063.0 1111334.0]\n",
      " ['Minutos Psíquicos' 648892.0 22555134.0]\n",
      " ['Alimente o Cérebro' 135118.0 3375528.0]\n",
      " ['Canal Zoa' 9118.0 683190.0]\n",
      " ['Papo de Biólogo' 374057.0 12139385.0]\n",
      " ['Eu, Ciência' 88211.0 1616496.0]\n",
      " ['Peixe Babel' nan nan]\n",
      " ['SpaceToday' 321068.0 26277335.0]\n",
      " ['Ciência todo dia' 528761.0 16969332.0]\n",
      " ['Colecionadores de Ossos' 24894.0 806815.0]\n",
      " ['Canal do Pirula' 752573.0 76462787.0]\n",
      " ['Jornal Ciensacional' 6216.0 104217.0]\n",
      " ['iBioMovies - Canal de Biologia' 17388.0 563535.0]\n",
      " ['Primata Falante' 110840.0 4540321.0]\n",
      " ['Dragões de Garagem' 6421.0 82599.0]\n",
      " ['Café e Ciência' 38494.0 916320.0]\n",
      " ['Mimimidias' 66122.0 2009621.0]\n",
      " ['Schwarza - Poligonautas' 860493.0 118741623.0]\n",
      " ['Caio na Aula' 13661.0 748018.0]\n",
      " ['ComCiência Corporal' 2308.0 16150.0]\n",
      " ['Leitura ObrigaHISTORIA' 138132.0 3013264.0]\n",
      " ['Portal da Ciência' 64100.0 2139717.0]\n",
      " ['Universo Discreto' 2330.0 74680.0]\n",
      " ['Astrotubers' 4357.0 41228.0]\n",
      " ['O Físico Turista' 53838.0 1004921.0]]\n"
     ]
    }
   ],
   "source": [
    "baseDeDados = pd.read_csv('svbr_missing.csv', delimiter=';')\n",
    "X = baseDeDados.iloc[:,:].values\n",
    "print(X)"
   ]
  },
  {
   "cell_type": "code",
   "execution_count": 61,
   "metadata": {},
   "outputs": [
    {
     "name": "stdout",
     "output_type": "stream",
     "text": [
      "[['Site Arqueologia Egípcia' '13438.0' '406590.0']\n",
      " ['Terra Negra' '35241.0' '868235.0']\n",
      " ['Frank Jaava' '53838.0' '1575456.0']\n",
      " ['Dispersciência' '25100.0' '150000.0']\n",
      " ['Olá Ciência' '32788.0' '1575456.0']\n",
      " ['A matemaníaca por Julia Jaccoud' '65453.0' '1667892.0']\n",
      " ['Delta T - Os super lentos' '12000.0' '171361.0']\n",
      " ['Bláblálogia' '161951.0' '11027386.0']\n",
      " ['Efarsas' '78876.0' '6226235.0']\n",
      " ['Minuto da Terra' '274196.0' '30166457.0']\n",
      " ['Canal Cura Quântica' '13148.0' '250020.0']\n",
      " ['Mensageiro Sideral' '72425.0' '7551491.0']\n",
      " ['Universo Racionalista' '7858.0' '43662.0']\n",
      " ['Xadrez Verbal' '110549.0' '4151548.0']\n",
      " ['Reinaldo José Lopes' '11188.0' '541832.0']\n",
      " [\"Bio's Fera\" '5299.0' '44312.0']\n",
      " ['QuerQueDesenhe' '56006.0' '1329268.0']\n",
      " ['Prof André Azevedo da Fonseca' '45756.0' '1825724.0']\n",
      " ['Matemática Rio com Prof Rafael P' '1423056.0' '93036517.0']\n",
      " ['Ponto em Comum' '129466.0' '5027880.0']\n",
      " ['Canal do Slow' '137409.0' '5363423.0']\n",
      " ['Boteco Behaviorista' '18404.0' '1427977.0']\n",
      " ['Papo de Primata' '42063.0' '1111334.0']\n",
      " ['Minutos Psíquicos' '648892.0' '22555134.0']\n",
      " ['Alimente o Cérebro' '135118.0' '3375528.0']\n",
      " ['Canal Zoa' '9118.0' '683190.0']\n",
      " ['Papo de Biólogo' '374057.0' '12139385.0']\n",
      " ['Eu, Ciência' '88211.0' '1616496.0']\n",
      " ['Peixe Babel' '53838.0' '1575456.0']\n",
      " ['SpaceToday' '321068.0' '26277335.0']\n",
      " ['Ciência todo dia' '528761.0' '16969332.0']\n",
      " ['Colecionadores de Ossos' '24894.0' '806815.0']\n",
      " ['Canal do Pirula' '752573.0' '76462787.0']\n",
      " ['Jornal Ciensacional' '6216.0' '104217.0']\n",
      " ['iBioMovies - Canal de Biologia' '17388.0' '563535.0']\n",
      " ['Primata Falante' '110840.0' '4540321.0']\n",
      " ['Dragões de Garagem' '6421.0' '82599.0']\n",
      " ['Café e Ciência' '38494.0' '916320.0']\n",
      " ['Mimimidias' '66122.0' '2009621.0']\n",
      " ['Schwarza - Poligonautas' '860493.0' '118741623.0']\n",
      " ['Caio na Aula' '13661.0' '748018.0']\n",
      " ['ComCiência Corporal' '2308.0' '16150.0']\n",
      " ['Leitura ObrigaHISTORIA' '138132.0' '3013264.0']\n",
      " ['Portal da Ciência' '64100.0' '2139717.0']\n",
      " ['Universo Discreto' '2330.0' '74680.0']\n",
      " ['Astrotubers' '4357.0' '41228.0']\n",
      " ['O Físico Turista' '53838.0' '1004921.0']]\n"
     ]
    }
   ],
   "source": [
    "from sklearn.impute import SimpleImputer\n",
    "imputer = SimpleImputer(missing_values=np.nan, strategy='median')\n",
    "imputer = imputer.fit(X[:,1:3])\n",
    "X = imputer.transform(X[:,1:3]).astype(str)\n",
    "X = np.insert(X, 0, baseDeDados.iloc[:,0].values, axis=1)\n",
    "print(X)"
   ]
  },
  {
   "cell_type": "markdown",
   "metadata": {},
   "source": [
    "Category Variables and split train and test"
   ]
  },
  {
   "cell_type": "code",
   "execution_count": 62,
   "metadata": {},
   "outputs": [],
   "source": [
    "import numpy as np\n",
    "import pandas as pd\n",
    "from sklearn.impute import SimpleImputer"
   ]
  },
  {
   "cell_type": "code",
   "execution_count": 63,
   "metadata": {},
   "outputs": [
    {
     "name": "stdout",
     "output_type": "stream",
     "text": [
      "      Name  GRE Score  TOEFL Score  University Rating  SOP  LOR  CGPA  \\\n",
      "0    Lucas        337          118                  4  4.5  4.5  9.65   \n",
      "1      Ana        324          107                  4  4.0  4.5  8.87   \n",
      "2     Jose        316          104                  3  3.0  3.5  8.00   \n",
      "3   Carlos        322          110                  3  3.5  2.5  8.67   \n",
      "4  Zileide        314          103                  2  2.0  3.0  8.21   \n",
      "5    Joana        330          115                  5  4.5  3.0  9.34   \n",
      "6     Davi        321          109                  3  3.0  4.0  8.20   \n",
      "7   Daniel        308          101                  2  3.0  4.0  7.90   \n",
      "8  Marcelo        302          102                  1  2.0  1.5  8.00   \n",
      "\n",
      "   Research  Approval  \n",
      "0         1         1  \n",
      "1         1         1  \n",
      "2         1         1  \n",
      "3         1         1  \n",
      "4         0         0  \n",
      "5         1         1  \n",
      "6         1         1  \n",
      "7         0         0  \n",
      "8         0         0  \n"
     ]
    }
   ],
   "source": [
    "database = pd.read_csv('admission.csv',delimiter=';')\n",
    "print(database)"
   ]
  },
  {
   "cell_type": "code",
   "execution_count": 64,
   "metadata": {},
   "outputs": [
    {
     "name": "stdout",
     "output_type": "stream",
     "text": [
      "[['Lucas' 337 118 4 4.5 4.5 9.65 1]\n",
      " ['Ana' 324 107 4 4.0 4.5 8.87 1]\n",
      " ['Jose' 316 104 3 3.0 3.5 8.0 1]\n",
      " ['Carlos' 322 110 3 3.5 2.5 8.67 1]\n",
      " ['Zileide' 314 103 2 2.0 3.0 8.21 0]\n",
      " ['Joana' 330 115 5 4.5 3.0 9.34 1]\n",
      " ['Davi' 321 109 3 3.0 4.0 8.2 1]\n",
      " ['Daniel' 308 101 2 3.0 4.0 7.9 0]\n",
      " ['Marcelo' 302 102 1 2.0 1.5 8.0 0]]\n"
     ]
    }
   ],
   "source": [
    "X = database.iloc[:,:-1].values\n",
    "print(X)"
   ]
  },
  {
   "cell_type": "code",
   "execution_count": 65,
   "metadata": {},
   "outputs": [
    {
     "name": "stdout",
     "output_type": "stream",
     "text": [
      "[1 1 1 1 0 1 1 0 0]\n"
     ]
    }
   ],
   "source": [
    "y = database.iloc[:,-1].values\n",
    "print(y)"
   ]
  },
  {
   "cell_type": "code",
   "execution_count": 66,
   "metadata": {},
   "outputs": [
    {
     "name": "stdout",
     "output_type": "stream",
     "text": [
      "[[337.   118.     4.     4.5    4.5    9.65   1.  ]\n",
      " [324.   107.     4.     4.     4.5    8.87   1.  ]\n",
      " [316.   104.     3.     3.     3.5    8.     1.  ]\n",
      " [322.   110.     3.     3.5    2.5    8.67   1.  ]\n",
      " [314.   103.     2.     2.     3.     8.21   0.  ]\n",
      " [330.   115.     5.     4.5    3.     9.34   1.  ]\n",
      " [321.   109.     3.     3.     4.     8.2    1.  ]\n",
      " [308.   101.     2.     3.     4.     7.9    0.  ]\n",
      " [302.   102.     1.     2.     1.5    8.     0.  ]]\n"
     ]
    }
   ],
   "source": [
    "from sklearn.impute import SimpleImputer\n",
    "imputer = SimpleImputer(missing_values=np.nan, strategy='median')\n",
    "imputer = imputer.fit_transform(X[:,1:])\n",
    "print(imputer)"
   ]
  },
  {
   "cell_type": "code",
   "execution_count": 67,
   "metadata": {},
   "outputs": [
    {
     "name": "stdout",
     "output_type": "stream",
     "text": [
      "[[6 337 118 4 4.5 4.5 9.65 1]\n",
      " [0 324 107 4 4.0 4.5 8.87 1]\n",
      " [5 316 104 3 3.0 3.5 8.0 1]\n",
      " [1 322 110 3 3.5 2.5 8.67 1]\n",
      " [8 314 103 2 2.0 3.0 8.21 0]\n",
      " [4 330 115 5 4.5 3.0 9.34 1]\n",
      " [3 321 109 3 3.0 4.0 8.2 1]\n",
      " [2 308 101 2 3.0 4.0 7.9 0]\n",
      " [7 302 102 1 2.0 1.5 8.0 0]]\n"
     ]
    }
   ],
   "source": [
    "from sklearn.preprocessing import LabelEncoder\n",
    "labelencoder_X = LabelEncoder()\n",
    "X[:, 0] = labelencoder_X.fit_transform(X[:, 0])\n",
    "print(X)"
   ]
  },
  {
   "cell_type": "code",
   "execution_count": 68,
   "metadata": {},
   "outputs": [],
   "source": [
    "X = X[:,1:]"
   ]
  },
  {
   "cell_type": "code",
   "execution_count": 69,
   "metadata": {},
   "outputs": [
    {
     "name": "stdout",
     "output_type": "stream",
     "text": [
      "[[0 0 0 0 0 0 0 0 1 337 118 4 4.5 4.5 9.65 1]\n",
      " [0 0 0 0 0 0 0 1 0 324 107 4 4.0 4.5 8.87 1]\n",
      " [0 0 0 0 1 0 0 0 0 316 104 3 3.0 3.5 8.0 1]\n",
      " [0 0 1 0 0 0 0 0 0 322 110 3 3.5 2.5 8.67 1]\n",
      " [0 0 0 0 0 0 1 0 0 314 103 2 2.0 3.0 8.21 0]\n",
      " [0 0 0 1 0 0 0 0 0 330 115 5 4.5 3.0 9.34 1]\n",
      " [0 1 0 0 0 0 0 0 0 321 109 3 3.0 4.0 8.2 1]\n",
      " [0 0 0 0 0 1 0 0 0 308 101 2 3.0 4.0 7.9 0]\n",
      " [1 0 0 0 0 0 0 0 0 302 102 1 2.0 1.5 8.0 0]]\n"
     ]
    }
   ],
   "source": [
    "D = pd.get_dummies(X[:,0])\n",
    "X = np.insert(X, 0, D.values, axis=1)\n",
    "print(X)"
   ]
  },
  {
   "cell_type": "code",
   "execution_count": 70,
   "metadata": {},
   "outputs": [
    {
     "name": "stdout",
     "output_type": "stream",
     "text": [
      "[[0 0 0 1 0 0 0 0 0 330 115 5 4.5 3.0 9.34 1]\n",
      " [0 0 0 0 1 0 0 0 0 316 104 3 3.0 3.5 8.0 1]\n",
      " [0 1 0 0 0 0 0 0 0 321 109 3 3.0 4.0 8.2 1]\n",
      " [0 0 0 0 0 0 0 0 1 337 118 4 4.5 4.5 9.65 1]\n",
      " [0 0 1 0 0 0 0 0 0 322 110 3 3.5 2.5 8.67 1]\n",
      " [0 0 0 0 0 0 0 1 0 324 107 4 4.0 4.5 8.87 1]\n",
      " [0 0 0 0 0 0 1 0 0 314 103 2 2.0 3.0 8.21 0]]\n"
     ]
    }
   ],
   "source": [
    "from sklearn.model_selection import train_test_split\n",
    "XTrain, xTest, yTrain, yTest = train_test_split(X, y, test_size = 0.2)\n",
    "print(XTrain)"
   ]
  },
  {
   "cell_type": "code",
   "execution_count": 71,
   "metadata": {},
   "outputs": [
    {
     "name": "stdout",
     "output_type": "stream",
     "text": [
      "[[0 0 0 0 0 1 0 0 0 308 101 2 3.0 4.0 7.9 0]\n",
      " [1 0 0 0 0 0 0 0 0 302 102 1 2.0 1.5 8.0 0]]\n"
     ]
    }
   ],
   "source": [
    "print(xTest)"
   ]
  },
  {
   "cell_type": "markdown",
   "metadata": {},
   "source": [
    "Normalizing "
   ]
  },
  {
   "cell_type": "code",
   "execution_count": 72,
   "metadata": {},
   "outputs": [],
   "source": [
    "#remove warning of dataconversionwarning\n",
    "from sklearn.exceptions import DataConversionWarning\n",
    "import warnings\n",
    "warnings.filterwarnings(action='ignore', category=DataConversionWarning)\n"
   ]
  },
  {
   "cell_type": "code",
   "execution_count": 73,
   "metadata": {},
   "outputs": [
    {
     "name": "stdout",
     "output_type": "stream",
     "text": [
      "Normalizing...\n",
      "[[ 0.         -0.40824829 -0.40824829  2.44948974 -0.40824829  0.\n",
      "  -0.40824829 -0.40824829 -0.40824829  0.89223724  1.0935057   1.73925271\n",
      "   1.18321596 -0.78446454  1.10134712  0.40824829]\n",
      " [ 0.         -0.40824829 -0.40824829 -0.40824829  2.44948974  0.\n",
      "  -0.40824829 -0.40824829 -0.40824829 -1.008616   -1.06546709 -0.47434165\n",
      "  -0.59160798 -0.09805807 -1.22537269  0.40824829]\n",
      " [ 0.          2.44948974 -0.40824829 -0.40824829 -0.40824829  0.\n",
      "  -0.40824829 -0.40824829 -0.40824829 -0.32973985 -0.08411582 -0.47434165\n",
      "  -0.59160798  0.58834841 -0.87810108  0.40824829]\n",
      " [ 0.         -0.40824829 -0.40824829 -0.40824829 -0.40824829  0.\n",
      "  -0.40824829 -0.40824829  2.44948974  1.84266386  1.68231646  0.63245553\n",
      "   1.18321596  1.27475488  1.63961812  0.40824829]\n",
      " [ 0.         -0.40824829  2.44948974 -0.40824829 -0.40824829  0.\n",
      "  -0.40824829 -0.40824829 -0.40824829 -0.19396462  0.11215443 -0.47434165\n",
      "   0.         -1.47087101 -0.06201279  0.40824829]\n",
      " [ 0.         -0.40824829 -0.40824829 -0.40824829 -0.40824829  0.\n",
      "  -0.40824829  2.44948974 -0.40824829  0.07758585 -0.47665633  0.63245553\n",
      "   0.59160798  1.27475488  0.28525883  0.40824829]\n",
      " [ 0.         -0.40824829 -0.40824829 -0.40824829 -0.40824829  0.\n",
      "   2.44948974 -0.40824829 -0.40824829 -1.28016647 -1.26173735 -1.58113883\n",
      "  -1.77482393 -0.78446454 -0.8607375  -2.44948974]]\n"
     ]
    }
   ],
   "source": [
    "#falar de distancia euclidiana pra justificar normalização\n",
    "print(\"Normalizing...\")\n",
    "from sklearn.preprocessing import StandardScaler\n",
    "scale_X = StandardScaler()\n",
    "XTrain = scale_X.fit_transform(XTrain)\n",
    "xTest = scale_X.fit_transform(xTest)\n",
    "print(XTrain)"
   ]
  },
  {
   "cell_type": "code",
   "execution_count": 74,
   "metadata": {},
   "outputs": [
    {
     "name": "stdout",
     "output_type": "stream",
     "text": [
      "[[-1.  0.  0.  0.  0.  1.  0.  0.  0.  1. -1.  1.  1.  1. -1.  0.]\n",
      " [ 1.  0.  0.  0.  0. -1.  0.  0.  0. -1.  1. -1. -1. -1.  1.  0.]]\n"
     ]
    }
   ],
   "source": [
    "print(xTest)"
   ]
  },
  {
   "cell_type": "markdown",
   "metadata": {},
   "source": [
    "Linear regression"
   ]
  },
  {
   "cell_type": "code",
   "execution_count": 75,
   "metadata": {},
   "outputs": [
    {
     "ename": "SyntaxError",
     "evalue": "invalid syntax (2381887992.py, line 51)",
     "output_type": "error",
     "traceback": [
      "\u001b[0;36m  File \u001b[0;32m\"/tmp/ipykernel_171062/2381887992.py\"\u001b[0;36m, line \u001b[0;32m51\u001b[0m\n\u001b[0;31m    print(\"Linear regression...\")34\u001b[0m\n\u001b[0m                                 ^\u001b[0m\n\u001b[0;31mSyntaxError\u001b[0m\u001b[0;31m:\u001b[0m invalid syntax\n"
     ]
    }
   ],
   "source": [
    "import numpy as np\n",
    "import pandas as pd\n",
    "\n",
    "def loadDataSet(filename):\n",
    "    print(\"Load database...\")\n",
    "    baseDeDados = pd.read_csv(filename, delimiter=';')\n",
    "    X = baseDeDados.iloc[:,:-1].values\n",
    "    y = baseDeDados.iloc[:,-1].values\n",
    "    print(\"ok!\")\n",
    "    return X, y\n",
    "\n",
    "def fillMissingData(X):\n",
    "    print(\"Fill missing values...\")\n",
    "    from sklearn.impute import SimpleImputer\n",
    "    imputer = SimpleImputer(missing_values=np.nan, strategy='median')\n",
    "    X[:,1:] = imputer.fit_transform(X[:,1:])\n",
    "    print(\"ok!\")\n",
    "    return X\n",
    "\n",
    "def computeCategorization(X):\n",
    "    print(\"Labeling...\")\n",
    "    from sklearn.preprocessing import LabelEncoder\n",
    "    labelencoder_X = LabelEncoder()\n",
    "    X[:, 0] = labelencoder_X.fit_transform(X[:, 0])\n",
    "    D = pd.get_dummies(X[:,0])\n",
    "    X = X[:,1:]\n",
    "    X = np.insert(X, 0, D.values, axis=1)\n",
    "    print(\"ok!\")\n",
    "    return X\n",
    "\n",
    "def splitTrainTestSets(X, y, testSize):\n",
    "    print(\"Split data train and test...\")\n",
    "    from sklearn.model_selection import train_test_split\n",
    "    XTrain, XTest, yTrain, yTest = train_test_split(X, y, test_size = testSize)\n",
    "    print(\"ok!\")\n",
    "    return XTrain, XTest, yTrain, yTest\n",
    "\n",
    "def computeNormalization(XTrain, XTest):\n",
    "    print(\"Normalizing...\")\n",
    "    from sklearn.preprocessing import StandardScaler\n",
    "    scaleX = StandardScaler()\n",
    "    XTrain = scaleX.fit_transform(XTrain)\n",
    "    XTest = scaleX.fit_transform(XTest)\n",
    "    print(\"ok!\")\n",
    "    return XTrain, XTest\n",
    "\n",
    "def computeLinearRegression(XTrain, yTrain, XTest, yTest):\n",
    "    import matplotlib.pyplot as plt\n",
    "    from sklearn.linear_model import LinearRegression\n",
    "\n",
    "    print(\"Linear regression...\")\n",
    "    regressor = LinearRegression()\n",
    "    regressor.fit(XTrain, yTrain)\n",
    "    yPred = regressor.predict(XTest)\n",
    "    print(\"ok!\")\n",
    "\n",
    "    print(XTest[:,-1])\n",
    "\n",
    "    plt.scatter(XTest[:,-1], yTest, color = 'red')\n",
    "    plt.plot(XTest[:,-1], regressor.predict(XTest), color='blue')\n",
    "    plt.title(\"Subscriptions x Views\")\n",
    "    plt.xlabel(\"Subscriptions\")\n",
    "    plt.ylabel(\"Views\")\n",
    "    plt.show()\n",
    "\n",
    "def runLinearRegressionExample():\n",
    "    X, y = loadDataSet(\"svbr.csv\")\n",
    "    X = fillMissingData(X)\n",
    "    X = computeCategorization(X)\n",
    "    XTrain, XTest, yTrain, yTest = splitTrainTestSets(X, y, 0.8)\n",
    "    computeLinearRegression(XTrain, yTrain, XTest, yTest)"
   ]
  },
  {
   "cell_type": "code",
   "execution_count": null,
   "metadata": {},
   "outputs": [
    {
     "name": "stdout",
     "output_type": "stream",
     "text": [
      "Load database...\n",
      "ok!\n",
      "Fill missing values...\n",
      "ok!\n",
      "Labeling...\n",
      "ok!\n",
      "Split data train and test...\n",
      "ok!\n",
      "Linear regression...\n",
      "ok!\n",
      "[65453.0 9118.0 6421.0 161951.0 35241.0 88211.0 32788.0 752573.0 860493.0\n",
      " 31680.0 135118.0 53838.0 2330.0 5299.0 18404.0 528761.0 2308.0 78876.0\n",
      " 42063.0 321068.0 13148.0 110549.0 110840.0 6216.0 45756.0 72425.0 56006.0\n",
      " 11188.0 7858.0 648892.0 138132.0 1423056.0 24894.0 13438.0 49797.0\n",
      " 17388.0 129466.0 25100.0]\n"
     ]
    },
    {
     "data": {
      "image/png": "[encoded data removed]",
      "text/plain": [
       "<Figure size 432x288 with 1 Axes>"
      ]
     },
     "metadata": {
      "needs_background": "light"
     },
     "output_type": "display_data"
    }
   ],
   "source": [
    "runLinearRegressionExample()"
   ]
  }
 ],
 "metadata": {
  "interpreter": {
   "hash": "e7370f93d1d0cde622a1f8e1c04877d8463912d04d973331ad4851f04de6915a"
  },
  "kernelspec": {
   "display_name": "Python 3.9.7 64-bit",
   "language": "python",
   "name": "python3"
  },
  "language_info": {
   "codemirror_mode": {
    "name": "ipython",
    "version": 3
   },
   "file_extension": ".py",
   "mimetype": "text/x-python",
   "name": "python",
   "nbconvert_exporter": "python",
   "pygments_lexer": "ipython3",
   "version": "3.9.7"
  },
  "orig_nbformat": 4
 },
 "nbformat": 4,
 "nbformat_minor": 2
}
