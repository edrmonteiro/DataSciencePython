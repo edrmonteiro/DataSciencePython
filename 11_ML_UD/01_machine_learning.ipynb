{
 "cells": [
  {
   "cell_type": "markdown",
   "metadata": {},
   "source": [
    "Machine Learning"
   ]
  },
  {
   "cell_type": "markdown",
   "metadata": {},
   "source": [
    "Common Functions"
   ]
  },
  {
   "cell_type": "code",
   "execution_count": 1,
   "metadata": {},
   "outputs": [],
   "source": [
    "import numpy as np\n",
    "import pandas as pd\n",
    "\n",
    "def loadDataset(filename, deli):\n",
    "    baseDeDados = pd.read_csv(filename, delimiter=deli)\n",
    "    X = baseDeDados.iloc[:,:-1].values\n",
    "    y = baseDeDados.iloc[:,-1].values\n",
    "    return X, y, baseDeDados\n",
    "\n",
    "def fillMissingData(X, inicioColuna, fimColuna):\n",
    "    from sklearn.impute import SimpleImputer\n",
    "    imputer = SimpleImputer(missing_values=np.nan, strategy='median')\n",
    "    X[:,inicioColuna:fimColuna + 1] = imputer.fit_transform(X[:,inicioColuna:fimColuna + 1])\n",
    "    return X\n",
    "\n",
    "def computeCategorization(X):\n",
    "    from sklearn.preprocessing import LabelEncoder\n",
    "    labelencoder_X = LabelEncoder()\n",
    "    X[:, 0] = labelencoder_X.fit_transform(X[:, 0])\n",
    "\n",
    "    #one hot encoding\n",
    "    D = pd.get_dummies(X[:,0]).values\n",
    "    \n",
    "    X = X[:,1:]\n",
    "    for ii in range(0, D.shape[1]):\n",
    "        X = np.insert(X, X.shape[1], D[:,ii], axis=1)\n",
    "    X = X[:,:X.shape[1] - 1]\n",
    "\n",
    "    return X\n",
    "\n",
    "def splitTrainTestSets(X, y, testSize):\n",
    "    from sklearn.model_selection import train_test_split\n",
    "    XTrain, XTest, yTrain, yTest = train_test_split(X, y, test_size = testSize)\n",
    "    return XTrain, XTest, yTrain, yTest\n",
    "\n",
    "def computeScaling(X):\n",
    "    from sklearn.preprocessing import StandardScaler\n",
    "    scaleobj = StandardScaler()\n",
    "    X = scaleobj.fit_transform(X.astype(float))\n",
    "\n",
    "    return X, scaleobj"
   ]
  },
  {
   "cell_type": "markdown",
   "metadata": {},
   "source": [
    "Logistic Regression Classification"
   ]
  },
  {
   "cell_type": "code",
   "execution_count": 2,
   "metadata": {},
   "outputs": [],
   "source": [
    "def computeLogisticRegressionModel(XTrain, yTrain, XTest):\n",
    "    from sklearn.linear_model import LogisticRegression\n",
    "    classifier = LogisticRegression(solver='lbfgs')\n",
    "    classifier.fit(XTrain[0], yTrain)\n",
    "    return classifier\n",
    "\n",
    "def predictModel(classifier, XTest):\n",
    "    return classifier.predict(XTest[0])\n",
    "\n",
    "def evaluateModel(classifier, yPred, yTest):\n",
    "    from sklearn.metrics import confusion_matrix\n",
    "    confusionMatrix = confusion_matrix(yTest, yPred)\n",
    "    return confusionMatrix\n",
    "    \n",
    "def computeLogisticRegressionExample(filename):\n",
    "    X, y, csv = loadDataset(filename, \",\")\n",
    "    X = fillMissingData(X, 2, 3)\n",
    "\n",
    "    #sex\n",
    "    X = computeCategorization(X)\n",
    "    #embark\n",
    "    X = computeCategorization(X)\n",
    "\n",
    "    XTrain, XTest, yTrain, yTest = splitTrainTestSets(X, y, 0.15)\n",
    "    XTrain = computeScaling(XTrain)\n",
    "    XTest = computeScaling(XTest)\n",
    "\n",
    "    classifier = computeLogisticRegressionModel(XTrain, yTrain, XTest)\n",
    "    yPred = predictModel(classifier, XTest)\n",
    "    return evaluateModel(classifier, yPred, yTest)"
   ]
  },
  {
   "cell_type": "code",
   "execution_count": 3,
   "metadata": {},
   "outputs": [
    {
     "name": "stdout",
     "output_type": "stream",
     "text": [
      "79.8507462686567\n"
     ]
    }
   ],
   "source": [
    "def printAccuracy(confusionMatrix):\n",
    "    accuracy = (confusionMatrix[0][0] + confusionMatrix[1][1]) / (confusionMatrix[0][0] + confusionMatrix[1][0] + confusionMatrix[0][1] + confusionMatrix[1][1])\n",
    "    print(accuracy * 100)\n",
    "confusionMatrix = computeLogisticRegressionExample(\"titanic.csv\")\n",
    "printAccuracy(confusionMatrix)"
   ]
  },
  {
   "cell_type": "markdown",
   "metadata": {},
   "source": [
    "K-Nearest Neighbors"
   ]
  },
  {
   "cell_type": "code",
   "execution_count": 4,
   "metadata": {},
   "outputs": [],
   "source": [
    "def computeKNNModel(XTrain, yTrain, XTest):\n",
    "    from sklearn.neighbors import KNeighborsClassifier\n",
    "    classifier = KNeighborsClassifier(n_neighbors = 5, p = 2)\n",
    "    classifier.fit(XTrain[0], yTrain)\n",
    "    return classifier\n",
    "\n",
    "def predictModel(classifier, XTest):\n",
    "    return classifier.predict(XTest[0])\n",
    "\n",
    "def evaluateModel(classifier, yPred, yTest):\n",
    "    from sklearn.metrics import confusion_matrix\n",
    "    confusionMatrix = confusion_matrix(yTest, yPred)\n",
    "    return confusionMatrix\n",
    "    \n",
    "def computeKNNExample(filename):\n",
    "    X, y, csv = loadDataset(filename, \",\")\n",
    "    X = fillMissingData(X, 2, 3)\n",
    "    #sex\n",
    "    X = computeCategorization(X)\n",
    "    #embark\n",
    "    X = computeCategorization(X)\n",
    "    XTrain, XTest, yTrain, yTest = splitTrainTestSets(X, y, 0.15)\n",
    "    XTrain = computeScaling(XTrain)\n",
    "    XTest = computeScaling(XTest)\n",
    "    classifier = computeKNNModel(XTrain, yTrain, XTest)\n",
    "    yPred = predictModel(classifier, XTest)\n",
    "    return evaluateModel(classifier, yPred, yTest)"
   ]
  },
  {
   "cell_type": "code",
   "execution_count": 6,
   "metadata": {},
   "outputs": [
    {
     "name": "stdout",
     "output_type": "stream",
     "text": [
      "[[68 16]\n",
      " [17 33]]\n",
      "[[11  0]\n",
      " [ 4  0]]\n"
     ]
    }
   ],
   "source": [
    "print(computeKNNExample(\"titanic.csv\"))\n",
    "print(computeKNNExample(\"pc.csv\"))"
   ]
  },
  {
   "cell_type": "code",
   "execution_count": 7,
   "metadata": {},
   "outputs": [],
   "source": [
    "def getAccuracy(confusionMatrix):\n",
    "    accuracy = (confusionMatrix[0][0] + confusionMatrix[1][1]) / (confusionMatrix[0][0] + confusionMatrix[1][0] + confusionMatrix[0][1] + confusionMatrix[1][1])\n",
    "    return accuracy * 100"
   ]
  },
  {
   "cell_type": "code",
   "execution_count": 9,
   "metadata": {},
   "outputs": [
    {
     "data": {
      "image/png": "[encoded data removed]",
      "text/plain": [
       "<Figure size 432x288 with 1 Axes>"
      ]
     },
     "metadata": {
      "needs_background": "light"
     },
     "output_type": "display_data"
    },
    {
     "name": "stdout",
     "output_type": "stream",
     "text": [
      "Mean and Standard deviation of Logistic Regression: \n",
      "80.19 2.97\n",
      "Mean and Standard deviation of KNN: \n",
      "78.96 3.64\n"
     ]
    }
   ],
   "source": [
    "rlArray = []\n",
    "for i in range(0, 50):\n",
    "    confusionMatrixLR = computeLogisticRegressionExample(\"titanic.csv\")\n",
    "    rlArray.append(getAccuracy(confusionMatrixLR))\n",
    "    \n",
    "knnArray = []\n",
    "for i in range(0, 50):\n",
    "    confusionMatrixKNN = computeKNNExample(\"titanic.csv\")\n",
    "    knnArray.append(getAccuracy(confusionMatrixKNN))\n",
    "\n",
    "import matplotlib.pyplot as plt\n",
    "plt.plot(rlArray, 'r-', knnArray, 'g--')\n",
    "plt.ylabel(\"Accuracy\")\n",
    "plt.xlabel(\"Interactions\")\n",
    "plt.show()\n",
    "\n",
    "print(\"Mean and Standard deviation of Logistic Regression: \")\n",
    "print(\"%.2f\" % np.mean(rlArray), \"%.2f\" % np.std(rlArray))\n",
    "\n",
    "print(\"Mean and Standard deviation of KNN: \")\n",
    "print(\"%.2f\" % np.mean(knnArray), \"%.2f\" % np.std(knnArray))"
   ]
  }
 ],
 "metadata": {
  "interpreter": {
   "hash": "e7370f93d1d0cde622a1f8e1c04877d8463912d04d973331ad4851f04de6915a"
  },
  "kernelspec": {
   "display_name": "Python 3.9.7 64-bit",
   "language": "python",
   "name": "python3"
  },
  "language_info": {
   "codemirror_mode": {
    "name": "ipython",
    "version": 3
   },
   "file_extension": ".py",
   "mimetype": "text/x-python",
   "name": "python",
   "nbconvert_exporter": "python",
   "pygments_lexer": "ipython3",
   "version": "3.9.7"
  },
  "orig_nbformat": 4
 },
 "nbformat": 4,
 "nbformat_minor": 2
}
