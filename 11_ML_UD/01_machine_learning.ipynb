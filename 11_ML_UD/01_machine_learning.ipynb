{
 "cells": [
  {
   "cell_type": "markdown",
   "metadata": {},
   "source": [
    "Machine Learning"
   ]
  },
  {
   "cell_type": "markdown",
   "metadata": {},
   "source": [
    "Common Functions"
   ]
  },
  {
   "cell_type": "code",
   "execution_count": 1,
   "metadata": {},
   "outputs": [],
   "source": [
    "import numpy as np\n",
    "import pandas as pd\n",
    "\n",
    "def loadDataset(filename, deli):\n",
    "    baseDeDados = pd.read_csv(filename, delimiter=deli)\n",
    "    X = baseDeDados.iloc[:,:-1].values\n",
    "    y = baseDeDados.iloc[:,-1].values\n",
    "    return X, y, baseDeDados\n",
    "\n",
    "def fillMissingData(X, inicioColuna, fimColuna):\n",
    "    from sklearn.impute import SimpleImputer\n",
    "    imputer = SimpleImputer(missing_values=np.nan, strategy='median')\n",
    "    X[:,inicioColuna:fimColuna + 1] = imputer.fit_transform(X[:,inicioColuna:fimColuna + 1])\n",
    "    return X\n",
    "\n",
    "def computeCategorization(X):\n",
    "    from sklearn.preprocessing import LabelEncoder\n",
    "    labelencoder_X = LabelEncoder()\n",
    "    X[:, 0] = labelencoder_X.fit_transform(X[:, 0])\n",
    "\n",
    "    #one hot encoding\n",
    "    D = pd.get_dummies(X[:,0]).values\n",
    "    \n",
    "    X = X[:,1:]\n",
    "    for ii in range(0, D.shape[1]):\n",
    "        X = np.insert(X, X.shape[1], D[:,ii], axis=1)\n",
    "    X = X[:,:X.shape[1] - 1]\n",
    "\n",
    "    return X\n",
    "\n",
    "def splitTrainTestSets(X, y, testSize):\n",
    "    from sklearn.model_selection import train_test_split\n",
    "    XTrain, XTest, yTrain, yTest = train_test_split(X, y, test_size = testSize)\n",
    "    return XTrain, XTest, yTrain, yTest\n",
    "\n",
    "def computeScaling(X):\n",
    "    from sklearn.preprocessing import StandardScaler\n",
    "    scaleobj = StandardScaler()\n",
    "    X = scaleobj.fit_transform(X.astype(float))\n",
    "\n",
    "    return X, scaleobj"
   ]
  },
  {
   "cell_type": "markdown",
   "metadata": {},
   "source": [
    "Logistic Regression Classification"
   ]
  },
  {
   "cell_type": "code",
   "execution_count": 2,
   "metadata": {},
   "outputs": [],
   "source": [
    "def computeLogisticRegressionModel(XTrain, yTrain, XTest):\n",
    "    from sklearn.linear_model import LogisticRegression\n",
    "    classifier = LogisticRegression(solver='lbfgs')\n",
    "    classifier.fit(XTrain[0], yTrain)\n",
    "    return classifier\n",
    "\n",
    "def predictModel(classifier, XTest):\n",
    "    return classifier.predict(XTest[0])\n",
    "\n",
    "def evaluateModel(classifier, yPred, yTest):\n",
    "    from sklearn.metrics import confusion_matrix\n",
    "    confusionMatrix = confusion_matrix(yTest, yPred)\n",
    "    return confusionMatrix\n",
    "    \n",
    "def computeLogisticRegressionExample(filename):\n",
    "    X, y, csv = loadDataset(filename, \",\")\n",
    "    X = fillMissingData(X, 2, 3)\n",
    "\n",
    "    #sex\n",
    "    X = computeCategorization(X)\n",
    "    #embark\n",
    "    X = computeCategorization(X)\n",
    "\n",
    "    XTrain, XTest, yTrain, yTest = splitTrainTestSets(X, y, 0.15)\n",
    "    XTrain = computeScaling(XTrain)\n",
    "    XTest = computeScaling(XTest)\n",
    "\n",
    "    classifier = computeLogisticRegressionModel(XTrain, yTrain, XTest)\n",
    "    yPred = predictModel(classifier, XTest)\n",
    "    return evaluateModel(classifier, yPred, yTest)"
   ]
  },
  {
   "cell_type": "code",
   "execution_count": 3,
   "metadata": {},
   "outputs": [
    {
     "name": "stdout",
     "output_type": "stream",
     "text": [
      "75.3731343283582\n"
     ]
    }
   ],
   "source": [
    "def printAccuracy(confusionMatrix):\n",
    "    accuracy = (confusionMatrix[0][0] + confusionMatrix[1][1]) / (confusionMatrix[0][0] + confusionMatrix[1][0] + confusionMatrix[0][1] + confusionMatrix[1][1])\n",
    "    print(accuracy * 100)\n",
    "confusionMatrix = computeLogisticRegressionExample(\"titanic.csv\")\n",
    "printAccuracy(confusionMatrix)"
   ]
  },
  {
   "cell_type": "markdown",
   "metadata": {},
   "source": [
    "K-Nearest Neighbors"
   ]
  },
  {
   "cell_type": "code",
   "execution_count": 4,
   "metadata": {},
   "outputs": [],
   "source": [
    "def computeKNNModel(XTrain, yTrain, XTest):\n",
    "    from sklearn.neighbors import KNeighborsClassifier\n",
    "    classifier = KNeighborsClassifier(n_neighbors = 5, p = 2)\n",
    "    classifier.fit(XTrain[0], yTrain)\n",
    "    return classifier\n",
    "\n",
    "def predictModel(classifier, XTest):\n",
    "    return classifier.predict(XTest[0])\n",
    "\n",
    "def evaluateModel(classifier, yPred, yTest):\n",
    "    from sklearn.metrics import confusion_matrix\n",
    "    confusionMatrix = confusion_matrix(yTest, yPred)\n",
    "    return confusionMatrix\n",
    "    \n",
    "def computeKNNExample(filename):\n",
    "    X, y, csv = loadDataset(filename, \",\")\n",
    "    X = fillMissingData(X, 2, 3)\n",
    "    #sex\n",
    "    X = computeCategorization(X)\n",
    "    #embark\n",
    "    X = computeCategorization(X)\n",
    "    XTrain, XTest, yTrain, yTest = splitTrainTestSets(X, y, 0.15)\n",
    "    XTrain = computeScaling(XTrain)\n",
    "    XTest = computeScaling(XTest)\n",
    "    classifier = computeKNNModel(XTrain, yTrain, XTest)\n",
    "    yPred = predictModel(classifier, XTest)\n",
    "    return evaluateModel(classifier, yPred, yTest)"
   ]
  },
  {
   "cell_type": "code",
   "execution_count": 5,
   "metadata": {},
   "outputs": [
    {
     "name": "stdout",
     "output_type": "stream",
     "text": [
      "[[79  7]\n",
      " [13 35]]\n",
      "[[13  0]\n",
      " [ 2  0]]\n"
     ]
    }
   ],
   "source": [
    "print(computeKNNExample(\"titanic.csv\"))\n",
    "print(computeKNNExample(\"pc.csv\"))"
   ]
  },
  {
   "cell_type": "code",
   "execution_count": 6,
   "metadata": {},
   "outputs": [],
   "source": [
    "def getAccuracy(confusionMatrix):\n",
    "    accuracy = (confusionMatrix[0][0] + confusionMatrix[1][1]) / (confusionMatrix[0][0] + confusionMatrix[1][0] + confusionMatrix[0][1] + confusionMatrix[1][1])\n",
    "    return accuracy * 100"
   ]
  },
  {
   "cell_type": "code",
   "execution_count": 7,
   "metadata": {},
   "outputs": [
    {
     "data": {
      "image/png": "[encoded data removed]",
      "text/plain": [
       "<Figure size 432x288 with 1 Axes>"
      ]
     },
     "metadata": {
      "needs_background": "light"
     },
     "output_type": "display_data"
    },
    {
     "name": "stdout",
     "output_type": "stream",
     "text": [
      "Mean and Standard deviation of Logistic Regression: \n",
      "80.43 3.13\n",
      "Mean and Standard deviation of KNN: \n",
      "79.01 3.07\n"
     ]
    }
   ],
   "source": [
    "rlArray = []\n",
    "for i in range(0, 50):\n",
    "    confusionMatrixLR = computeLogisticRegressionExample(\"titanic.csv\")\n",
    "    rlArray.append(getAccuracy(confusionMatrixLR))\n",
    "    \n",
    "knnArray = []\n",
    "for i in range(0, 50):\n",
    "    confusionMatrixKNN = computeKNNExample(\"titanic.csv\")\n",
    "    knnArray.append(getAccuracy(confusionMatrixKNN))\n",
    "\n",
    "import matplotlib.pyplot as plt\n",
    "plt.plot(rlArray, 'r-', knnArray, 'g--')\n",
    "plt.ylabel(\"Accuracy\")\n",
    "plt.xlabel(\"Interactions\")\n",
    "plt.show()\n",
    "\n",
    "print(\"Mean and Standard deviation of Logistic Regression: \")\n",
    "print(\"%.2f\" % np.mean(rlArray), \"%.2f\" % np.std(rlArray))\n",
    "\n",
    "print(\"Mean and Standard deviation of KNN: \")\n",
    "print(\"%.2f\" % np.mean(knnArray), \"%.2f\" % np.std(knnArray))"
   ]
  },
  {
   "cell_type": "markdown",
   "metadata": {},
   "source": [
    "Classification Class"
   ]
  },
  {
   "cell_type": "code",
   "execution_count": 8,
   "metadata": {},
   "outputs": [],
   "source": [
    "class ClassificationModel:\n",
    "    def __init__(self):\n",
    "        pass    \n",
    "\n",
    "    def predictModel(classifier, X):\n",
    "        return classifier.predict(X[0])\n",
    "\n",
    "    def evaluateModel(yPred, yTest):\n",
    "        from sklearn.metrics import confusion_matrix\n",
    "        confusionMatrix = confusion_matrix(yTest, yPred)\n",
    "        return confusionMatrix\n",
    "\n",
    "    def preprocessData(filename):\n",
    "        X, y, csv = loadDataset(filename, \",\")\n",
    "        X = fillMissingData(X, 2, 3)\n",
    "        #sex\n",
    "        X = computeCategorization(X)\n",
    "        #embark\n",
    "        X = computeCategorization(X)\n",
    "        XTrain, XTest, yTrain, yTest = splitTrainTestSets(X, y, 0.15)\n",
    "        XTrain = computeScaling(XTrain)\n",
    "        XTest = computeScaling(XTest)\n",
    "        return XTrain, XTest, yTrain, yTest"
   ]
  },
  {
   "cell_type": "markdown",
   "metadata": {},
   "source": [
    "Support Vector Machines"
   ]
  },
  {
   "cell_type": "code",
   "execution_count": 9,
   "metadata": {},
   "outputs": [],
   "source": [
    "class LogisticRegression(ClassificationModel):\n",
    "    def computeModel(XTrain, yTrain):\n",
    "        from sklearn.linear_model import LogisticRegression\n",
    "\n",
    "        classifier = LogisticRegression(solver='lbfgs')\n",
    "        classifier.fit(XTrain[0], yTrain)\n",
    "\n",
    "        return classifier\n",
    "\n",
    "    def computeExample(filename):\n",
    "        XTrain, XTest, yTrain, yTest = ClassificationModel.preprocessData(filename)\n",
    "\n",
    "        classifier = LogisticRegression.computeModel(XTrain, yTrain)\n",
    "        yPred = ClassificationModel.predictModel(classifier, XTest)\n",
    "        return ClassificationModel.evaluateModel(yPred, yTest)"
   ]
  },
  {
   "cell_type": "code",
   "execution_count": 10,
   "metadata": {},
   "outputs": [
    {
     "name": "stdout",
     "output_type": "stream",
     "text": [
      "[[71 13]\n",
      " [15 35]]\n"
     ]
    }
   ],
   "source": [
    "print(LogisticRegression.computeExample(\"titanic.csv\"))"
   ]
  },
  {
   "cell_type": "code",
   "execution_count": 11,
   "metadata": {},
   "outputs": [],
   "source": [
    "class SVM(ClassificationModel):\n",
    "    def computeModel(XTrain, yTrain, k):\n",
    "        from sklearn.svm import SVC\n",
    "\n",
    "        classifier = SVC(kernel=k)\n",
    "        classifier.fit(XTrain[0], yTrain)\n",
    "\n",
    "        return classifier\n",
    "\n",
    "    def computeExample(filename, kernel):\n",
    "        XTrain, XTest, yTrain, yTest = ClassificationModel.preprocessData(filename)\n",
    "\n",
    "        classifier = SVM.computeModel(XTrain, yTrain, kernel)\n",
    "        yPred = ClassificationModel.predictModel(classifier, XTest)\n",
    "        return ClassificationModel.evaluateModel(yPred, yTest)"
   ]
  },
  {
   "cell_type": "code",
   "execution_count": 12,
   "metadata": {},
   "outputs": [
    {
     "data": {
      "text/plain": [
       "array([[63, 12],\n",
       "       [19, 40]])"
      ]
     },
     "execution_count": 12,
     "metadata": {},
     "output_type": "execute_result"
    }
   ],
   "source": [
    "SVM.computeExample(\"titanic.csv\", \"linear\")"
   ]
  },
  {
   "cell_type": "code",
   "execution_count": 13,
   "metadata": {},
   "outputs": [],
   "source": [
    "class KNN(ClassificationModel):\n",
    "    def computeModel(XTrain, yTrain):\n",
    "        from sklearn.neighbors import KNeighborsClassifier\n",
    "\n",
    "        classifier = KNeighborsClassifier(n_neighbors = 5, p = 2)\n",
    "        classifier.fit(XTrain[0], yTrain)\n",
    "\n",
    "        return classifier\n",
    "\n",
    "    def computeExample(filename):\n",
    "        XTrain, XTest, yTrain, yTest = ClassificationModel.preprocessData(filename)\n",
    "\n",
    "        classifier = KNN.computeModel(XTrain, yTrain)\n",
    "        yPred = ClassificationModel.predictModel(classifier, XTest)\n",
    "        return ClassificationModel.evaluateModel(yPred, yTest)"
   ]
  },
  {
   "cell_type": "code",
   "execution_count": 14,
   "metadata": {},
   "outputs": [
    {
     "name": "stdout",
     "output_type": "stream",
     "text": [
      "[[71 11]\n",
      " [17 35]]\n"
     ]
    }
   ],
   "source": [
    "print(KNN.computeExample(\"titanic.csv\"))"
   ]
  },
  {
   "cell_type": "code",
   "execution_count": 15,
   "metadata": {},
   "outputs": [
    {
     "name": "stdout",
     "output_type": "stream",
     "text": [
      "Mean of Logistic Regression: 79.80\n",
      "Standard Deviation of Logistic Regression: 3.44\n",
      "\n",
      "Mean of KNN: 79.22\n",
      "Standard Deviation of KNN: 3.63\n"
     ]
    }
   ],
   "source": [
    "rlArray = []\n",
    "for i in range(0, 100):\n",
    "    cmLR = LogisticRegression.computeExample(\"titanic.csv\")\n",
    "    rlArray.append(getAccuracy(cmLR))\n",
    "print(\"Mean of Logistic Regression: %.2f\" % np.mean(rlArray))\n",
    "print(\"Standard Deviation of Logistic Regression: %.2f\" % np.std(rlArray))\n",
    "\n",
    "knnArray = []\n",
    "for i in range(0, 100):\n",
    "    cmKnn = KNN.computeExample(\"titanic.csv\")\n",
    "    knnArray.append(getAccuracy(cmKnn))\n",
    "print(\"\\nMean of KNN: %.2f\" % np.mean(knnArray))\n",
    "print(\"Standard Deviation of KNN: %.2f\" % np.std(knnArray))\n",
    "\n",
    "svmArray = []\n",
    "for i in range(0, 100):\n",
    "    cmSVM = SVM.computeExample(\"titanic.csv\", \"linear\")\n",
    "    svmArray.append(getAccuracy(cmSVM))\n",
    "print(\"\\nMean of SVM: %.2f\" % np.mean(svmArray))\n",
    "print(\"Standard Deviation of SVM: %.2f\" % np.std(svmArray))\n",
    "\n",
    "import matplotlib.pyplot as plt\n",
    "plt.plot(rlArray, 'r-', knnArray, 'g--', svmArray, 'b^')\n",
    "plt.ylabel(\"Accuracy\")\n",
    "plt.xlabel(\"Trials\")\n",
    "plt.show()"
   ]
  },
  {
   "cell_type": "markdown",
   "metadata": {},
   "source": [
    "Kernel of Support Vector Machines"
   ]
  },
  {
   "cell_type": "code",
   "execution_count": null,
   "metadata": {},
   "outputs": [],
   "source": [
    "class SVM(ClassificationModel):\n",
    "    def computeModel(XTrain, yTrain, k, d):\n",
    "        from sklearn.svm import SVC\n",
    "\n",
    "        classifier = SVC(kernel=k, degree=d)\n",
    "        classifier.fit(XTrain[0], yTrain)\n",
    "\n",
    "        return classifier\n",
    "\n",
    "    def computeExample(filename, kernel, degree):\n",
    "        XTrain, XTest, yTrain, yTest = ClassificationModel.preprocessData(filename)\n",
    "\n",
    "        classifier = SVM.computeModel(XTrain, yTrain, kernel, degree)\n",
    "        yPred = ClassificationModel.predictModel(classifier, XTest)\n",
    "        return ClassificationModel.evaluateModel(yPred, yTest)"
   ]
  },
  {
   "cell_type": "code",
   "execution_count": null,
   "metadata": {},
   "outputs": [
    {
     "name": "stderr",
     "output_type": "stream",
     "text": [
      "100%|██████████| 20/20 [00:00<00:00, 32.46it/s]\n"
     ]
    },
    {
     "name": "stdout",
     "output_type": "stream",
     "text": [
      "Mean of Logistic Regression: 80.07\n",
      "Standard Deviation of Logistic Regression: 2.97\n"
     ]
    },
    {
     "name": "stderr",
     "output_type": "stream",
     "text": [
      "100%|██████████| 20/20 [00:00<00:00, 35.82it/s]\n"
     ]
    },
    {
     "name": "stdout",
     "output_type": "stream",
     "text": [
      "\n",
      "Mean of KNN: 76.57\n",
      "Standard Deviation of KNN: 3.00\n"
     ]
    },
    {
     "name": "stderr",
     "output_type": "stream",
     "text": [
      "100%|██████████| 20/20 [00:00<00:00, 29.26it/s]\n"
     ]
    },
    {
     "name": "stdout",
     "output_type": "stream",
     "text": [
      "\n",
      "Mean of SVM Linear: 78.17\n",
      "Standard Deviation of SVM Linear: 3.22\n"
     ]
    },
    {
     "name": "stderr",
     "output_type": "stream",
     "text": [
      "100%|██████████| 20/20 [00:00<00:00, 22.53it/s]\n"
     ]
    },
    {
     "name": "stdout",
     "output_type": "stream",
     "text": [
      "\n",
      "Mean of SVM Poly 3: 80.93\n",
      "Standard Deviation of SVM Poly 3: 3.48\n"
     ]
    },
    {
     "name": "stderr",
     "output_type": "stream",
     "text": [
      "  0%|          | 0/20 [00:00<?, ?it/s]"
     ]
    }
   ],
   "source": [
    "from tqdm import tqdm\n",
    "rlArray = []\n",
    "for i in tqdm(range(0, 20)):\n",
    "    cmLR = LogisticRegression.computeExample(\"titanic.csv\")\n",
    "    rlArray.append(getAccuracy(cmLR))\n",
    "print(\"Mean of Logistic Regression: %.2f\" % np.mean(rlArray))\n",
    "print(\"Standard Deviation of Logistic Regression: %.2f\" % np.std(rlArray))\n",
    "\n",
    "knnArray = []\n",
    "for i in tqdm(range(0, 20)):\n",
    "    cmKnn = KNN.computeExample(\"titanic.csv\")\n",
    "    knnArray.append(getAccuracy(cmKnn))\n",
    "print(\"\\nMean of KNN: %.2f\" % np.mean(knnArray))\n",
    "print(\"Standard Deviation of KNN: %.2f\" % np.std(knnArray))\n",
    "\n",
    "svmLinearArray = []\n",
    "for i in tqdm(range(0, 20)):\n",
    "    cmSVML = SVM.computeExample(\"titanic.csv\", \"linear\", 0)\n",
    "    svmLinearArray.append(getAccuracy(cmSVML))\n",
    "print(\"\\nMean of SVM Linear: %.2f\" % np.mean(svmLinearArray))\n",
    "print(\"Standard Deviation of SVM Linear: %.2f\" % np.std(svmLinearArray))\n",
    "\n",
    "svmPoly3Array = []\n",
    "for i in tqdm(range(0, 20)):\n",
    "    cmSVMP3 = SVM.computeExample(\"titanic.csv\", \"poly\", 3)\n",
    "    svmPoly3Array.append(getAccuracy(cmSVMP3))\n",
    "print(\"\\nMean of SVM Poly 3: %.2f\" % np.mean(svmPoly3Array))\n",
    "print(\"Standard Deviation of SVM Poly 3: %.2f\" % np.std(svmPoly3Array))\n",
    "\n",
    "svmPoly4Array = []\n",
    "for i in tqdm(range(0, 0)):\n",
    "    cmSVMP4 = SVM.computeExample(\"titanic.csv\", \"poly\", 4)\n",
    "    svmPoly4Array.append(getAccuracy(cmSVMP4))\n",
    "print(\"\\nMean of SVM Poly 4: %.2f\" % np.mean(svmPoly4Array))\n",
    "print(\"Standard Deviation of SVM Poly 4: %.2f\" % np.std(svmPoly4Array))\n",
    "\n",
    "svmGaussArray = []\n",
    "for i in tqdm(range(0, 20)):\n",
    "    cmSVMG = SVM.computeExample(\"titanic.csv\", \"rbf\", 0)\n",
    "    svmGaussArray.append(getAccuracy(cmSVMG))\n",
    "print(\"\\nMean of SVM Gaussian: %.2f\" % np.mean(svmGaussArray))\n",
    "print(\"Standard Deviation of SVM Gaussian: %.2f\" % np.std(svmGaussArray))\n",
    "\n",
    "import matplotlib.pyplot as plt\n",
    "plt.plot(rlArray, 'r-', knnArray, 'g--', svmGaussArray, 'b^')\n",
    "plt.ylabel(\"Accuracy\")\n",
    "plt.xlabel(\"Trials\")\n",
    "plt.show()"
   ]
  },
  {
   "cell_type": "markdown",
   "metadata": {},
   "source": [
    "Naive Bayes"
   ]
  },
  {
   "cell_type": "code",
   "execution_count": null,
   "metadata": {},
   "outputs": [],
   "source": [
    "class NaiveBayes(ClassificationModel):\n",
    "    def computeModel(XTrain, yTrain):\n",
    "        from sklearn.naive_bayes import GaussianNB\n",
    "\n",
    "        classifier = GaussianNB()\n",
    "        classifier.fit(XTrain[0], yTrain)\n",
    "\n",
    "        return classifier\n",
    "\n",
    "    def computeExample(filename):\n",
    "        XTrain, XTest, yTrain, yTest = ClassificationModel.preprocessData(filename, True)\n",
    "\n",
    "        classifier = NaiveBayes.computeModel(XTrain, yTrain)\n",
    "        yPred = ClassificationModel.predictModel(classifier, XTest, False)\n",
    "        return ClassificationModel.evaluateModel(yPred, yTest)"
   ]
  },
  {
   "cell_type": "code",
   "execution_count": null,
   "metadata": {},
   "outputs": [],
   "source": [
    "class ClassificationModel:\n",
    "    def predictModel(classifier, X, isDecisionTree):\n",
    "        if(isDecisionTree == False):\n",
    "            X = X[0]\n",
    "        return classifier.predict(X)\n",
    "\n",
    "    def evaluateModel(yPred, yTest):\n",
    "        from sklearn.metrics import confusion_matrix\n",
    "        confusionMatrix = confusion_matrix(yTest, yPred)\n",
    "        return confusionMatrix\n",
    "\n",
    "    def preprocessData(filename, useFeatureScaling):\n",
    "        X, y, csv = loadDataset(filename, \",\")\n",
    "        X = fillMissingData(X, 2, 3)\n",
    "        #sex\n",
    "        X = computeCategorization(X)\n",
    "        #embark\n",
    "        X = computeCategorization(X)\n",
    "        XTrain, XTest, yTrain, yTest = splitTrainTestSets(X, y, 0.15)\n",
    "        if(useFeatureScaling == True):\n",
    "            XTrain = computeScaling(XTrain)\n",
    "            XTest = computeScaling(XTest)\n",
    "        return XTrain, XTest, yTrain, yTest"
   ]
  },
  {
   "cell_type": "code",
   "execution_count": null,
   "metadata": {},
   "outputs": [],
   "source": [
    "class DecisionTree(ClassificationModel):\n",
    "    def computeModel(XTrain, yTrain):\n",
    "        from sklearn.tree import DecisionTreeClassifier\n",
    "        classifier = DecisionTreeClassifier(criterion = 'entropy')\n",
    "        classifier.fit(XTrain, yTrain)\n",
    "        return classifier\n",
    "\n",
    "    def computeExample(filename):\n",
    "        XTrain, XTest, yTrain, yTest = ClassificationModel.preprocessData(filename, False)\n",
    "\n",
    "        classifier = DecisionTree.computeModel(XTrain, yTrain)\n",
    "        yPred = ClassificationModel.predictModel(classifier, XTest, True)\n",
    "        return ClassificationModel.evaluateModel(yPred, yTest)"
   ]
  },
  {
   "cell_type": "code",
   "execution_count": null,
   "metadata": {},
   "outputs": [],
   "source": [
    "class KNN(ClassificationModel):\n",
    "    def computeModel(XTrain, yTrain):\n",
    "        from sklearn.neighbors import KNeighborsClassifier\n",
    "        classifier = KNeighborsClassifier(n_neighbors = 5, p = 2)\n",
    "        classifier.fit(XTrain[0], yTrain)\n",
    "        return classifier\n",
    "\n",
    "    def computeExample(filename):\n",
    "        XTrain, XTest, yTrain, yTest = ClassificationModel.preprocessData(filename, True)\n",
    "        classifier = KNN.computeModel(XTrain, yTrain)\n",
    "        yPred = ClassificationModel.predictModel(classifier, XTest, False)\n",
    "        return ClassificationModel.evaluateModel(yPred, yTest)"
   ]
  },
  {
   "cell_type": "code",
   "execution_count": null,
   "metadata": {},
   "outputs": [],
   "source": [
    "class LogisticRegression(ClassificationModel):\n",
    "    def computeModel(XTrain, yTrain):\n",
    "        from sklearn.linear_model import LogisticRegression\n",
    "        classifier = LogisticRegression(solver='lbfgs')\n",
    "        classifier.fit(XTrain[0], yTrain)\n",
    "        return classifier\n",
    "\n",
    "    def computeExample(filename):\n",
    "        XTrain, XTest, yTrain, yTest = ClassificationModel.preprocessData(filename, True)\n",
    "        classifier = LogisticRegression.computeModel(XTrain, yTrain)\n",
    "        yPred = ClassificationModel.predictModel(classifier, XTest, False)\n",
    "        return ClassificationModel.evaluateModel(yPred, yTest)"
   ]
  },
  {
   "cell_type": "code",
   "execution_count": null,
   "metadata": {},
   "outputs": [],
   "source": [
    "class SVM(ClassificationModel):\n",
    "    def computeModel(XTrain, yTrain, k):\n",
    "        from sklearn.svm import SVC\n",
    "        classifier = SVC(kernel = k)\n",
    "        classifier.fit(XTrain[0], yTrain)\n",
    "        return classifier\n",
    "\n",
    "    def computeExample(filename, kernel):\n",
    "        XTrain, XTest, yTrain, yTest = ClassificationModel.preprocessData(filename, True)\n",
    "        classifier = SVM.computeModel(XTrain, yTrain, kernel)\n",
    "        yPred = ClassificationModel.predictModel(classifier, XTest, False)\n",
    "        return ClassificationModel.evaluateModel(yPred, yTest)"
   ]
  },
  {
   "cell_type": "code",
   "execution_count": null,
   "metadata": {},
   "outputs": [
    {
     "name": "stdout",
     "output_type": "stream",
     "text": [
      "Mean of Logistic Regression: 79.72\n",
      "Standart Deviation of Logistic Regression: 2.80\n",
      "\n",
      "Mean of o KNN: 79.16\n",
      "Standart Deviation of KNN: 3.32\n",
      "\n",
      "Mean of o SVM: 82.25\n",
      "Standart Deviation of SVM: 2.89\n",
      "\n",
      "Mean of o NB: 76.74\n",
      "Standart Deviation of NB: 3.54\n",
      "\n",
      "Mean of a DT: 77.85\n",
      "Standart Deviation of DT: 3.59\n"
     ]
    },
    {
     "data": {
      "image/png": "[encoded data removed]",
      "text/plain": [
       "<Figure size 432x288 with 1 Axes>"
      ]
     },
     "metadata": {
      "needs_background": "light"
     },
     "output_type": "display_data"
    }
   ],
   "source": [
    "rlArray = []\n",
    "for i in range(0, 100):\n",
    "    cmLR = LogisticRegression.computeExample(\"titanic.csv\")\n",
    "    rlArray.append(getAccuracy(cmLR))\n",
    "print(\"Mean of Logistic Regression: %.2f\" % np.mean(rlArray))\n",
    "print(\"Standart Deviation of Logistic Regression: %.2f\" % np.std(rlArray))\n",
    "\n",
    "knnArray = []\n",
    "for i in range(0, 100):\n",
    "    cmKnn = KNN.computeExample(\"titanic.csv\")\n",
    "    knnArray.append(getAccuracy(cmKnn))\n",
    "print(\"\\nMean of o KNN: %.2f\" % np.mean(knnArray))\n",
    "print(\"Standart Deviation of KNN: %.2f\" % np.std(knnArray))\n",
    "\n",
    "svmArray = []\n",
    "for i in range(0, 100):\n",
    "    cmSVM = SVM.computeExample(\"titanic.csv\", \"rbf\")\n",
    "    svmArray.append(getAccuracy(cmSVM))\n",
    "print(\"\\nMean of o SVM: %.2f\" % np.mean(svmArray))\n",
    "print(\"Standart Deviation of SVM: %.2f\" % np.std(svmArray))\n",
    "\n",
    "NBArray = []\n",
    "for i in range(0, 100):\n",
    "    cmNB = NaiveBayes.computeExample(\"titanic.csv\")\n",
    "    NBArray.append(getAccuracy(cmNB))\n",
    "print(\"\\nMean of o NB: %.2f\" % np.mean(NBArray))\n",
    "print(\"Standart Deviation of NB: %.2f\" % np.std(NBArray))\n",
    "\n",
    "DTArray = []\n",
    "for i in range(0, 100):\n",
    "    cmDT = DecisionTree.computeExample(\"titanic.csv\")\n",
    "    DTArray.append(getAccuracy(cmDT))\n",
    "print(\"\\nMean of a DT: %.2f\" % np.mean(DTArray))\n",
    "print(\"Standart Deviation of DT: %.2f\" % np.std(DTArray))\n",
    "\n",
    "import matplotlib.pyplot as plt\n",
    "plt.plot(NBArray, 'r-', knnArray, 'g--', svmArray, \"b^\")\n",
    "plt.ylabel(\"Accuracy\")\n",
    "plt.xlabel(\"Trials\")\n",
    "plt.show()"
   ]
  },
  {
   "cell_type": "markdown",
   "metadata": {},
   "source": [
    "Random Forest"
   ]
  },
  {
   "cell_type": "code",
   "execution_count": null,
   "metadata": {},
   "outputs": [],
   "source": [
    "class RandomForest(ClassificationModel):\n",
    "    def computeModel(XTrain, yTrain):\n",
    "        from sklearn.ensemble import RandomForestClassifier\n",
    "\n",
    "        classifier = RandomForestClassifier(n_estimators = 10, criterion = 'entropy')\n",
    "        classifier.fit(XTrain, yTrain)\n",
    "\n",
    "        return classifier\n",
    "\n",
    "    def computeExample(filename):\n",
    "        XTrain, XTest, yTrain, yTest = ClassificationModel.preprocessData(filename, False)\n",
    "\n",
    "        classifier = RandomForest.computeModel(XTrain, yTrain)\n",
    "        yPred = ClassificationModel.predictModel(classifier, XTest, True)\n",
    "        return ClassificationModel.evaluateModel(yPred, yTest)"
   ]
  },
  {
   "cell_type": "code",
   "execution_count": null,
   "metadata": {},
   "outputs": [],
   "source": [
    "rlArray = []\n",
    "for i in range(0, 100):\n",
    "    cmLR = LogisticRegression.computeExample(\"titanic.csv\")\n",
    "    rlArray.append(getAccuracy(cmLR))\n",
    "print(\"Mean of Logistic Regression: %.2f\" % np.mean(rlArray))\n",
    "print(\"Standart Deviation of Logistic Regression: %.2f\" % np.std(rlArray))\n",
    "\n",
    "knnArray = []\n",
    "for i in range(0, 100):\n",
    "    cmKnn = KNN.computeExample(\"titanic.csv\")\n",
    "    knnArray.append(getAccuracy(cmKnn))\n",
    "print(\"\\nMean of o KNN: %.2f\" % np.mean(knnArray))\n",
    "print(\"Standart Deviation of KNN: %.2f\" % np.std(knnArray))\n",
    "\n",
    "svmArray = []\n",
    "for i in range(0, 100):\n",
    "    cmSVM = SVM.computeExample(\"titanic.csv\", \"rbf\")\n",
    "    svmArray.append(getAccuracy(cmSVM))\n",
    "print(\"\\nMean of o SVM: %.2f\" % np.mean(svmArray))\n",
    "print(\"Standart Deviation of SVM: %.2f\" % np.std(svmArray))\n",
    "\n",
    "NBArray = []\n",
    "for i in range(0, 100):\n",
    "    cmNB = NaiveBayes.computeExample(\"titanic.csv\")\n",
    "    NBArray.append(getAccuracy(cmNB))\n",
    "print(\"\\nMean of o NB: %.2f\" % np.mean(NBArray))\n",
    "print(\"Standart Deviation of NB: %.2f\" % np.std(NBArray))\n",
    "\n",
    "DTArray = []\n",
    "for i in range(0, 100):\n",
    "    cmDT = DecisionTree.computeExample(\"titanic.csv\")\n",
    "    DTArray.append(getAccuracy(cmDT))\n",
    "print(\"\\nMean of a DT: %.2f\" % np.mean(DTArray))\n",
    "print(\"Standart Deviation of DT: %.2f\" % np.std(DTArray))\n",
    "\n",
    "RFArray = []\n",
    "for i in range(0, 100):\n",
    "    cmRF = RandomForest.computeExample(\"titanic.csv\")\n",
    "    RFArray.append(getAccuracy(cmRF))\n",
    "print(\"\\nMean of RF: %.2f\" % np.mean(RFArray))\n",
    "print(\"Standart Deviation of RF: %.2f\" % np.std(RFArray))\n",
    "\n",
    "import matplotlib.pyplot as plt\n",
    "plt.plot(knnArray, 'r-', RFArray, 'g--', svmArray, \"b^\")\n",
    "plt.ylabel(\"Accuracy\")\n",
    "plt.xlabel(\"Trials\")\n",
    "plt.show()"
   ]
  }
 ],
 "metadata": {
  "interpreter": {
   "hash": "e7370f93d1d0cde622a1f8e1c04877d8463912d04d973331ad4851f04de6915a"
  },
  "kernelspec": {
   "display_name": "Python 3.9.7 64-bit",
   "language": "python",
   "name": "python3"
  },
  "language_info": {
   "codemirror_mode": {
    "name": "ipython",
    "version": 3
   },
   "file_extension": ".py",
   "mimetype": "text/x-python",
   "name": "python",
   "nbconvert_exporter": "python",
   "pygments_lexer": "ipython3",
   "version": "3.9.7"
  },
  "orig_nbformat": 4
 },
 "nbformat": 4,
 "nbformat_minor": 2
}
